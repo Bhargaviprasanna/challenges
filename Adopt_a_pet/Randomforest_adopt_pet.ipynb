{
  "nbformat": 4,
  "nbformat_minor": 0,
  "metadata": {
    "colab": {
      "name": "Randomforest_adopt_pet.ipynb",
      "provenance": [],
      "collapsed_sections": []
    },
    "kernelspec": {
      "display_name": "Python 3",
      "language": "python",
      "name": "python3"
    },
    "language_info": {
      "codemirror_mode": {
        "name": "ipython",
        "version": 3
      },
      "file_extension": ".py",
      "mimetype": "text/x-python",
      "name": "python",
      "nbconvert_exporter": "python",
      "pygments_lexer": "ipython3",
      "version": "3.7.7"
    }
  },
  "cells": [
    {
      "cell_type": "markdown",
      "metadata": {
        "id": "rnvGyrluXqUB",
        "colab_type": "text"
      },
      "source": [
        "# Dimensionality Reduction and Random Forests for Breed_category_prediction"
      ]
    },
    {
      "cell_type": "markdown",
      "metadata": {
        "colab_type": "text",
        "id": "sO8VPU6n3vES"
      },
      "source": [
        "## Importing the libraries"
      ]
    },
    {
      "cell_type": "code",
      "metadata": {
        "id": "CzC0QgfCMaw4",
        "colab_type": "code",
        "colab": {
          "base_uri": "https://localhost:8080/",
          "height": 122
        },
        "outputId": "1e45ebaf-b831-4a1b-af1e-589c7b2abbd1"
      },
      "source": [
        "from google.colab import drive\n",
        "drive.mount('/content/drive')"
      ],
      "execution_count": null,
      "outputs": [
        {
          "output_type": "stream",
          "text": [
            "Go to this URL in a browser: https://accounts.google.com/o/oauth2/auth?client_id=947318989803-6bn6qk8qdgf4n4g3pfee6491hc0brc4i.apps.googleusercontent.com&redirect_uri=urn%3aietf%3awg%3aoauth%3a2.0%3aoob&scope=email%20https%3a%2f%2fwww.googleapis.com%2fauth%2fdocs.test%20https%3a%2f%2fwww.googleapis.com%2fauth%2fdrive%20https%3a%2f%2fwww.googleapis.com%2fauth%2fdrive.photos.readonly%20https%3a%2f%2fwww.googleapis.com%2fauth%2fpeopleapi.readonly&response_type=code\n",
            "\n",
            "Enter your authorization code:\n",
            "··········\n",
            "Mounted at /content/drive\n"
          ],
          "name": "stdout"
        }
      ]
    },
    {
      "cell_type": "code",
      "metadata": {
        "id": "WsWM_Lj7Mn5O",
        "colab_type": "code",
        "colab": {}
      },
      "source": [
        "test_path = '/content/drive/My Drive/Datasets/Hacker_Earth_Challenges/Adopt_a_pet/Dataset/test.csv'\n",
        "train_path = '/content/drive/My Drive/Datasets/Hacker_Earth_Challenges/Adopt_a_pet/Dataset/train.csv'"
      ],
      "execution_count": null,
      "outputs": []
    },
    {
      "cell_type": "code",
      "metadata": {
        "colab_type": "code",
        "id": "clDSsF7P33NU",
        "colab": {}
      },
      "source": [
        "import numpy as np\n",
        "import matplotlib.pyplot as plt\n",
        "import pandas as pd"
      ],
      "execution_count": null,
      "outputs": []
    },
    {
      "cell_type": "markdown",
      "metadata": {
        "colab_type": "text",
        "id": "zGpwK5XD386E"
      },
      "source": [
        "## Importing the dataset"
      ]
    },
    {
      "cell_type": "code",
      "metadata": {
        "colab_type": "code",
        "id": "Zcksk88u4Ae8",
        "colab": {}
      },
      "source": [
        "df = pd.read_csv(train_path)\n",
        "from sklearn.impute import SimpleImputer\n",
        "imp=SimpleImputer(missing_values=np.nan, strategy=\"mean\" )\n",
        "df[\"condition\"]=imp.fit_transform(df[[\"condition\"]]).ravel()\n",
        "df = df.drop(['color_type'], axis=1)\n",
        "print(df.info())\n",
        "X = df.iloc[:, 3:9].values\n",
        "y = df.iloc[:, 8:9].values"
      ],
      "execution_count": null,
      "outputs": []
    },
    {
      "cell_type": "code",
      "metadata": {
        "id": "bcvc3jV0DCPa",
        "colab_type": "code",
        "colab": {
          "base_uri": "https://localhost:8080/",
          "height": 34
        },
        "outputId": "b78a8d0b-a549-4fbb-9fd7-f5551bcd446a"
      },
      "source": [
        "# Faster Independent Component analysis\n",
        "from sklearn.decomposition import FastICA\n",
        "transformer = FastICA(n_components=2,random_state=0)\n",
        "X_transformed = transformer.fit_transform(X,y)\n",
        "X_transformed.shape"
      ],
      "execution_count": null,
      "outputs": [
        {
          "output_type": "execute_result",
          "data": {
            "text/plain": [
              "(18834, 2)"
            ]
          },
          "metadata": {
            "tags": []
          },
          "execution_count": 8
        }
      ]
    },
    {
      "cell_type": "markdown",
      "metadata": {
        "id": "wPkvED3_YLVg",
        "colab_type": "text"
      },
      "source": [
        "## LDA less accuracy 88%"
      ]
    },
    {
      "cell_type": "code",
      "metadata": {
        "id": "BxwIj-drSL8W",
        "colab_type": "code",
        "colab": {}
      },
      "source": [
        "# #Linear Discriminant analysis\n",
        "# from sklearn.discriminant_analysis import LinearDiscriminantAnalysis as LDA\n",
        "# from sklearn.model_selection import train_test_split\n",
        "# X_train, X_test, y_train, y_test = train_test_split(X, y[:,0], test_size = 0.2, random_state = 0)\n",
        "# lda = LDA(n_components = 2)\n",
        "# X_train = lda.fit_transform(X_train, y_train)\n",
        "# X_test = lda.transform(X_test)"
      ],
      "execution_count": null,
      "outputs": []
    },
    {
      "cell_type": "code",
      "metadata": {
        "id": "Dr_dhvqGFatZ",
        "colab_type": "code",
        "colab": {}
      },
      "source": [
        "print(X[0],y[0])\n",
        "print(X_transformed[0],y[0])"
      ],
      "execution_count": null,
      "outputs": []
    },
    {
      "cell_type": "markdown",
      "metadata": {
        "colab_type": "text",
        "id": "XNn2RnST6_Q-"
      },
      "source": [
        "## Splitting the dataset into the Training set and Test set"
      ]
    },
    {
      "cell_type": "code",
      "metadata": {
        "colab_type": "code",
        "id": "ajhBL-er7Gry",
        "colab": {}
      },
      "source": [
        "from sklearn.model_selection import train_test_split\n",
        "X_train, X_test, y_train, y_test = train_test_split(X_transformed, y, test_size = 0.2, random_state = 0)"
      ],
      "execution_count": null,
      "outputs": []
    },
    {
      "cell_type": "markdown",
      "metadata": {
        "colab_type": "text",
        "id": "1Y89ctGZ7Mcx"
      },
      "source": [
        "## Training Randomforests on the Training set"
      ]
    },
    {
      "cell_type": "code",
      "metadata": {
        "id": "Y2NrsIb_n9LD",
        "colab_type": "code",
        "colab": {
          "base_uri": "https://localhost:8080/",
          "height": 207
        },
        "outputId": "08816d90-a871-41ff-971c-a343e3e02576"
      },
      "source": [
        "from sklearn.ensemble import RandomForestClassifier\n",
        "r_classifier = RandomForestClassifier(n_estimators=200, criterion='entropy', random_state=0) #94% accuracy 300trees FastICA\n",
        "r_classifier.fit(X_train,y_train)"
      ],
      "execution_count": null,
      "outputs": [
        {
          "output_type": "stream",
          "text": [
            "/usr/local/lib/python3.6/dist-packages/ipykernel_launcher.py:3: DataConversionWarning: A column-vector y was passed when a 1d array was expected. Please change the shape of y to (n_samples,), for example using ravel().\n",
            "  This is separate from the ipykernel package so we can avoid doing imports until\n"
          ],
          "name": "stderr"
        },
        {
          "output_type": "execute_result",
          "data": {
            "text/plain": [
              "RandomForestClassifier(bootstrap=True, ccp_alpha=0.0, class_weight=None,\n",
              "                       criterion='entropy', max_depth=None, max_features='auto',\n",
              "                       max_leaf_nodes=None, max_samples=None,\n",
              "                       min_impurity_decrease=0.0, min_impurity_split=None,\n",
              "                       min_samples_leaf=1, min_samples_split=2,\n",
              "                       min_weight_fraction_leaf=0.0, n_estimators=200,\n",
              "                       n_jobs=None, oob_score=False, random_state=0, verbose=0,\n",
              "                       warm_start=False)"
            ]
          },
          "metadata": {
            "tags": []
          },
          "execution_count": 10
        }
      ]
    },
    {
      "cell_type": "code",
      "metadata": {
        "id": "kyCDbTwCmep2",
        "colab_type": "code",
        "colab": {}
      },
      "source": [
        "Y = df.iloc[:,9:11].values\n",
        "X_train, X_test, y_train, y_test = train_test_split(X, Y, test_size = 0.2, random_state = 0)\n",
        "from sklearn.multioutput import MultiOutputClassifier\n",
        "from sklearn.multiclass import OneVsRestClassifier\n",
        "m_classifier = OneVsRestClassifier(classifier)\n",
        "clf = MultiOutputClassifier(classifier, n_jobs=-1)\n",
        "clf.fit(X_train, y_train)\n",
        "clf.predict(X[-2:])"
      ],
      "execution_count": null,
      "outputs": []
    },
    {
      "cell_type": "code",
      "metadata": {
        "id": "GMmrNE5ib0Dd",
        "colab_type": "code",
        "colab": {}
      },
      "source": [
        "# compare standalone models for binary classification\n",
        "from numpy import mean\n",
        "from numpy import std\n",
        "from sklearn.model_selection import cross_val_score\n",
        "from sklearn.model_selection import RepeatedStratifiedKFold\n",
        "from sklearn.tree import DecisionTreeClassifier\n",
        "\n",
        "from matplotlib import pyplot\n",
        "\n",
        "\n",
        "\n",
        "# get a list of models to evaluate\n",
        "def get_models():\n",
        "\tmodels = dict()\n",
        "\tmodels['rf'] = RandomForestClassifier(n_estimators=200)\n",
        "\tmodels['cart'] = DecisionTreeClassifier()\n",
        "\treturn models\n",
        "\n",
        "# evaluate a given model using cross-validation\n",
        "def evaluate_model(model, X, y):\n",
        "\tcv = RepeatedStratifiedKFold(n_splits=10, n_repeats=3, random_state=0)\n",
        "\tscores = cross_val_score(model, X_train, y_train, scoring='accuracy', cv=cv, n_jobs=-1, error_score='raise')\n",
        "\treturn scores\n",
        "\n",
        "\n",
        "# get the models to evaluate\n",
        "models = get_models()\n",
        "# evaluate the models and store results\n",
        "results, names = list(), list()\n",
        "for name, model in models.items():\n",
        "\tscores = evaluate_model(model, X_train, y_train)\n",
        "\tresults.append(scores)\n",
        "\tnames.append(name)\n",
        "\tprint('>%s %.3f (%.3f)' % (name, mean(scores), std(scores)))\n",
        "# plot model performance for comparison\n",
        "pyplot.boxplot(results, labels=names, showmeans=True)\n",
        "pyplot.show()"
      ],
      "execution_count": null,
      "outputs": []
    },
    {
      "cell_type": "markdown",
      "metadata": {
        "colab_type": "text",
        "id": "ivqmubzW7dFJ"
      },
      "source": [
        "## Making the Confusion Matrix"
      ]
    },
    {
      "cell_type": "code",
      "metadata": {
        "colab_type": "code",
        "id": "SUSZ3zm_7gRD",
        "colab": {
          "base_uri": "https://localhost:8080/",
          "height": 85
        },
        "outputId": "37773e75-6ed6-4182-f10c-3f012b88acc1"
      },
      "source": [
        "from sklearn.metrics import confusion_matrix, accuracy_score\n",
        "model = r_classifier\n",
        "y_pred = model.predict(X_test)\n",
        "#for 1st target value\n",
        "cm = confusion_matrix(y_test, y_pred)\n",
        "print(cm)\n",
        "score = accuracy_score(y_test, y_pred)*100\n",
        "print(score)\n",
        "#for 2nd target value\n",
        "# cm2 = confusion_matrix(y_test[:,1], y_pred[:,1])\n",
        "# print(cm2)\n",
        "# score2 = accuracy_score(y_test[:,1], y_pred[:,1])*100\n",
        "# print(score2)"
      ],
      "execution_count": null,
      "outputs": [
        {
          "output_type": "stream",
          "text": [
            "[[1698   25   54]\n",
            " [  13 1658    5]\n",
            " [  95    7  212]]\n",
            "94.71728165649057\n"
          ],
          "name": "stdout"
        }
      ]
    },
    {
      "cell_type": "code",
      "metadata": {
        "id": "7mUuH4LfFR56",
        "colab_type": "code",
        "colab": {}
      },
      "source": [
        "y_pred.shape"
      ],
      "execution_count": null,
      "outputs": []
    },
    {
      "cell_type": "code",
      "metadata": {
        "id": "or7Rq1IUc0k2",
        "colab_type": "code",
        "colab": {
          "base_uri": "https://localhost:8080/",
          "height": 34
        },
        "outputId": "16939569-39c4-42c3-ca3b-680c41701f88"
      },
      "source": [
        "from sklearn.metrics import f1_score\n",
        "score = f1_score(y_test, y_pred, average='weighted') * 100\n",
        "# score2 = f1_score(y_test[:,1], y_pred[:,1], average='weighted') * 100\n",
        "print(score)\n",
        "    # , score2)"
      ],
      "execution_count": null,
      "outputs": [
        {
          "output_type": "stream",
          "text": [
            "94.58305428831136\n"
          ],
          "name": "stdout"
        }
      ]
    },
    {
      "cell_type": "markdown",
      "metadata": {
        "colab_type": "text",
        "id": "EnbCjHgQ8XPn"
      },
      "source": [
        "## Applying k-Fold Cross Validation"
      ]
    },
    {
      "cell_type": "code",
      "metadata": {
        "colab_type": "code",
        "id": "yYbfiITD8ZAz",
        "colab": {}
      },
      "source": [
        "from sklearn.model_selection import cross_val_score\n",
        "accuracies = cross_val_score(estimator = r_classifier, X = X_train, y = y_train[:,0], cv = 10)\n",
        "print(\"Accuracy: {:.2f} %\".format(accuracies.mean()*100))\n",
        "accuracies = cross_val_score(estimator = r_classifier, X = X_train, y = y_train[:,1], cv = 10)\n",
        "print(\"Accuracy: {:.2f} %\".format(accuracies.mean()*100))"
      ],
      "execution_count": null,
      "outputs": []
    },
    {
      "cell_type": "markdown",
      "metadata": {
        "id": "2jWr7OkziPUo",
        "colab_type": "text"
      },
      "source": [
        "# Grid Search"
      ]
    },
    {
      "cell_type": "markdown",
      "metadata": {
        "id": "OWK0aMEoz5nj",
        "colab_type": "text"
      },
      "source": [
        "Best Accuracy: 89.02 %\n",
        "Best Parameters: {'n_estimators': 90}\n",
        "\n",
        "Best Accuracy: 89.04 %\n",
        "Best Parameters: {'n_estimators': 300}\n",
        "\n",
        "Best Accuracy: 95.11 %\n",
        "Best Parameters: {'n_estimators': 200}"
      ]
    },
    {
      "cell_type": "code",
      "metadata": {
        "id": "FVw1y-EWgkQr",
        "colab_type": "code",
        "colab": {}
      },
      "source": [
        "from sklearn.model_selection import GridSearchCV\n",
        "grid = {'n_estimators': [180,200,230,250,270,350]\n",
        "}\n",
        "grid_search = GridSearchCV(estimator = r_classifier,\n",
        "                           param_grid = grid,\n",
        "                           scoring = 'accuracy',\n",
        "                           cv = 10,\n",
        "                           n_jobs = -1)\n",
        "grid_search = grid_search.fit(X_train, y_train)\n",
        "best_accuracy = grid_search.best_score_\n",
        "best_parameters = grid_search.best_params_\n",
        "print(\"Best Accuracy: {:.2f} %\".format(best_accuracy*100))\n",
        "print(\"Best Parameters:\", best_parameters)"
      ],
      "execution_count": null,
      "outputs": []
    },
    {
      "cell_type": "markdown",
      "metadata": {
        "id": "_mC10MvT40zK",
        "colab_type": "text"
      },
      "source": [
        "#Preprocess the test set for submission"
      ]
    },
    {
      "cell_type": "code",
      "metadata": {
        "id": "t6ooAW5H4Yn2",
        "colab_type": "code",
        "colab": {}
      },
      "source": [
        "test_Set = pd.read_csv(test_path)\n",
        "print(test_Set.info())\n",
        "from sklearn.impute import SimpleImputer\n",
        "imp=SimpleImputer(missing_values=np.nan, strategy=\"mean\" )\n",
        "test_Set[\"condition\"]=imp.fit_transform(test_Set[[\"condition\"]]).ravel()\n",
        "test_Set = test_Set.drop(['color_type'], axis=1)\n",
        "X_test_final = test_Set.iloc[:, 3:9].values\n",
        "X_test_final = transformer.fit_transform(X_test_final)"
      ],
      "execution_count": null,
      "outputs": []
    },
    {
      "cell_type": "code",
      "metadata": {
        "id": "chUdztk7EQcN",
        "colab_type": "code",
        "colab": {
          "base_uri": "https://localhost:8080/",
          "height": 34
        },
        "outputId": "22f22ba6-9c1f-4d15-a764-5ac8d1bc9cea"
      },
      "source": [
        "X_test_final[0]"
      ],
      "execution_count": null,
      "outputs": [
        {
          "output_type": "execute_result",
          "data": {
            "text/plain": [
              "array([ 0.01319199, -0.00647494])"
            ]
          },
          "metadata": {
            "tags": []
          },
          "execution_count": 21
        }
      ]
    },
    {
      "cell_type": "code",
      "metadata": {
        "id": "jhYtdWnRGB2N",
        "colab_type": "code",
        "colab": {}
      },
      "source": [
        "y_pred_breedcategory = r_classifier.predict(X_test_final)\n",
        "# y_pred_breedcategory\n",
        "predicted_breed_category = [int(i) for i in y_pred_breedcategory]"
      ],
      "execution_count": null,
      "outputs": []
    },
    {
      "cell_type": "code",
      "metadata": {
        "id": "wP9QLClOE4uf",
        "colab_type": "code",
        "colab": {
          "base_uri": "https://localhost:8080/",
          "height": 34
        },
        "outputId": "b6783911-e41f-4d1c-9120-99852d4e3a4e"
      },
      "source": [
        "print(set(predicted_breed_category))"
      ],
      "execution_count": null,
      "outputs": [
        {
          "output_type": "stream",
          "text": [
            "{0, 1, 2}\n"
          ],
          "name": "stdout"
        }
      ]
    },
    {
      "cell_type": "code",
      "metadata": {
        "id": "SAyGl2exEnUr",
        "colab_type": "code",
        "colab": {}
      },
      "source": [
        "d = {'pet_id':test_Set['pet_id'], 'breed_category':predicted_breed_category}"
      ],
      "execution_count": null,
      "outputs": []
    },
    {
      "cell_type": "code",
      "metadata": {
        "id": "EHk6txR5GR2E",
        "colab_type": "code",
        "colab": {
          "base_uri": "https://localhost:8080/",
          "height": 419
        },
        "outputId": "612117c2-2843-43ac-a579-dd719ccf2663"
      },
      "source": [
        "datafra = pd.DataFrame(d)\n",
        "# d.to_csv('Submission.csv', index=False)\n",
        "datafra"
      ],
      "execution_count": null,
      "outputs": [
        {
          "output_type": "execute_result",
          "data": {
            "text/html": [
              "<div>\n",
              "<style scoped>\n",
              "    .dataframe tbody tr th:only-of-type {\n",
              "        vertical-align: middle;\n",
              "    }\n",
              "\n",
              "    .dataframe tbody tr th {\n",
              "        vertical-align: top;\n",
              "    }\n",
              "\n",
              "    .dataframe thead th {\n",
              "        text-align: right;\n",
              "    }\n",
              "</style>\n",
              "<table border=\"1\" class=\"dataframe\">\n",
              "  <thead>\n",
              "    <tr style=\"text-align: right;\">\n",
              "      <th></th>\n",
              "      <th>pet_id</th>\n",
              "      <th>breed_category</th>\n",
              "    </tr>\n",
              "  </thead>\n",
              "  <tbody>\n",
              "    <tr>\n",
              "      <th>0</th>\n",
              "      <td>ANSL_75005</td>\n",
              "      <td>0</td>\n",
              "    </tr>\n",
              "    <tr>\n",
              "      <th>1</th>\n",
              "      <td>ANSL_76663</td>\n",
              "      <td>1</td>\n",
              "    </tr>\n",
              "    <tr>\n",
              "      <th>2</th>\n",
              "      <td>ANSL_58259</td>\n",
              "      <td>1</td>\n",
              "    </tr>\n",
              "    <tr>\n",
              "      <th>3</th>\n",
              "      <td>ANSL_67171</td>\n",
              "      <td>0</td>\n",
              "    </tr>\n",
              "    <tr>\n",
              "      <th>4</th>\n",
              "      <td>ANSL_72871</td>\n",
              "      <td>1</td>\n",
              "    </tr>\n",
              "    <tr>\n",
              "      <th>...</th>\n",
              "      <td>...</td>\n",
              "      <td>...</td>\n",
              "    </tr>\n",
              "    <tr>\n",
              "      <th>8067</th>\n",
              "      <td>ANSL_66809</td>\n",
              "      <td>1</td>\n",
              "    </tr>\n",
              "    <tr>\n",
              "      <th>8068</th>\n",
              "      <td>ANSL_59041</td>\n",
              "      <td>2</td>\n",
              "    </tr>\n",
              "    <tr>\n",
              "      <th>8069</th>\n",
              "      <td>ANSL_60034</td>\n",
              "      <td>1</td>\n",
              "    </tr>\n",
              "    <tr>\n",
              "      <th>8070</th>\n",
              "      <td>ANSL_58066</td>\n",
              "      <td>1</td>\n",
              "    </tr>\n",
              "    <tr>\n",
              "      <th>8071</th>\n",
              "      <td>ANSL_69436</td>\n",
              "      <td>1</td>\n",
              "    </tr>\n",
              "  </tbody>\n",
              "</table>\n",
              "<p>8072 rows × 2 columns</p>\n",
              "</div>"
            ],
            "text/plain": [
              "          pet_id  breed_category\n",
              "0     ANSL_75005               0\n",
              "1     ANSL_76663               1\n",
              "2     ANSL_58259               1\n",
              "3     ANSL_67171               0\n",
              "4     ANSL_72871               1\n",
              "...          ...             ...\n",
              "8067  ANSL_66809               1\n",
              "8068  ANSL_59041               2\n",
              "8069  ANSL_60034               1\n",
              "8070  ANSL_58066               1\n",
              "8071  ANSL_69436               1\n",
              "\n",
              "[8072 rows x 2 columns]"
            ]
          },
          "metadata": {
            "tags": []
          },
          "execution_count": 24
        }
      ]
    },
    {
      "cell_type": "code",
      "metadata": {
        "id": "6aJ_5NOmHo7Y",
        "colab_type": "code",
        "colab": {}
      },
      "source": [
        "datafra.to_csv('breed_category.csv',index=False) # got 80 marks"
      ],
      "execution_count": null,
      "outputs": []
    }
  ]
}