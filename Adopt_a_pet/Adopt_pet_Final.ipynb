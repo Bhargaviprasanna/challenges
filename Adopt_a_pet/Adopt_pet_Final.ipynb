{
  "nbformat": 4,
  "nbformat_minor": 0,
  "metadata": {
    "kernelspec": {
      "language": "python",
      "display_name": "Python 3",
      "name": "python3"
    },
    "language_info": {
      "pygments_lexer": "ipython3",
      "nbconvert_exporter": "python",
      "version": "3.6.4",
      "file_extension": ".py",
      "codemirror_mode": {
        "name": "ipython",
        "version": 3
      },
      "name": "python",
      "mimetype": "text/x-python"
    },
    "colab": {
      "name": "Adopt_pet_Final.ipynb",
      "provenance": [],
      "collapsed_sections": [],
      "toc_visible": true
    },
    "accelerator": "GPU"
  },
  "cells": [
    {
      "cell_type": "markdown",
      "metadata": {
        "id": "N9E2c5_PI8xX"
      },
      "source": [
        "## Mount the drive\n"
      ]
    },
    {
      "cell_type": "code",
      "metadata": {
        "id": "YjBxP0MHbWIT",
        "outputId": "1266eeac-f01f-440d-a985-e51cfec1797d",
        "colab": {
          "base_uri": "https://localhost:8080/",
          "height": 34
        }
      },
      "source": [
        "from google.colab import drive\n",
        "drive.mount('/content/drive')"
      ],
      "execution_count": 1,
      "outputs": [
        {
          "output_type": "stream",
          "text": [
            "Mounted at /content/drive\n"
          ],
          "name": "stdout"
        }
      ]
    },
    {
      "cell_type": "markdown",
      "metadata": {
        "id": "m0WJ9_FTJCN0"
      },
      "source": [
        "## Install the CatBoost"
      ]
    },
    {
      "cell_type": "code",
      "metadata": {
        "trusted": true,
        "id": "TRwrA4_bakA4",
        "outputId": "fd13db29-2b5a-4f56-a730-aa471632a761",
        "colab": {
          "base_uri": "https://localhost:8080/",
          "height": 343
        }
      },
      "source": [
        "!pip install catboost"
      ],
      "execution_count": 2,
      "outputs": [
        {
          "output_type": "stream",
          "text": [
            "Collecting catboost\n",
            "\u001b[?25l  Downloading https://files.pythonhosted.org/packages/90/86/c3dcb600b4f9e7584ed90ea9d30a717fb5c0111574675f442c3e7bc19535/catboost-0.24.1-cp36-none-manylinux1_x86_64.whl (66.1MB)\n",
            "\u001b[K     |████████████████████████████████| 66.1MB 46kB/s \n",
            "\u001b[?25hRequirement already satisfied: six in /usr/local/lib/python3.6/dist-packages (from catboost) (1.15.0)\n",
            "Requirement already satisfied: graphviz in /usr/local/lib/python3.6/dist-packages (from catboost) (0.10.1)\n",
            "Requirement already satisfied: scipy in /usr/local/lib/python3.6/dist-packages (from catboost) (1.4.1)\n",
            "Requirement already satisfied: matplotlib in /usr/local/lib/python3.6/dist-packages (from catboost) (3.2.2)\n",
            "Requirement already satisfied: pandas>=0.24.0 in /usr/local/lib/python3.6/dist-packages (from catboost) (1.1.2)\n",
            "Requirement already satisfied: numpy>=1.16.0 in /usr/local/lib/python3.6/dist-packages (from catboost) (1.18.5)\n",
            "Requirement already satisfied: plotly in /usr/local/lib/python3.6/dist-packages (from catboost) (4.4.1)\n",
            "Requirement already satisfied: python-dateutil>=2.1 in /usr/local/lib/python3.6/dist-packages (from matplotlib->catboost) (2.8.1)\n",
            "Requirement already satisfied: pyparsing!=2.0.4,!=2.1.2,!=2.1.6,>=2.0.1 in /usr/local/lib/python3.6/dist-packages (from matplotlib->catboost) (2.4.7)\n",
            "Requirement already satisfied: cycler>=0.10 in /usr/local/lib/python3.6/dist-packages (from matplotlib->catboost) (0.10.0)\n",
            "Requirement already satisfied: kiwisolver>=1.0.1 in /usr/local/lib/python3.6/dist-packages (from matplotlib->catboost) (1.2.0)\n",
            "Requirement already satisfied: pytz>=2017.2 in /usr/local/lib/python3.6/dist-packages (from pandas>=0.24.0->catboost) (2018.9)\n",
            "Requirement already satisfied: retrying>=1.3.3 in /usr/local/lib/python3.6/dist-packages (from plotly->catboost) (1.3.3)\n",
            "Installing collected packages: catboost\n",
            "Successfully installed catboost-0.24.1\n"
          ],
          "name": "stdout"
        }
      ]
    },
    {
      "cell_type": "markdown",
      "metadata": {
        "id": "MgU7-_-6akA_"
      },
      "source": [
        " It is a multi-label or multi output classification problem. You have to predict two labels: 'breed_catagory' and 'pet_catagory'.\n",
        " The best solution here is to train two models.\n",
        "1. Build one classification model and predict the output.\n",
        "2. Use the predicted output of 1st model as input feature to 2nd model."
      ]
    },
    {
      "cell_type": "markdown",
      "metadata": {
        "id": "adBPQCvqJNkL"
      },
      "source": [
        "## Import the libraries"
      ]
    },
    {
      "cell_type": "code",
      "metadata": {
        "_uuid": "8f2839f25d086af736a60e9eeb907d3b93b6e0e5",
        "_cell_guid": "b1076dfc-b9ad-4769-8c92-a6c4dae69d19",
        "trusted": true,
        "id": "k0Xx7lssakBC"
      },
      "source": [
        "import numpy as np \n",
        "import pandas as pd \n",
        "from sklearn.metrics  import f1_score, confusion_matrix"
      ],
      "execution_count": 3,
      "outputs": []
    },
    {
      "cell_type": "code",
      "metadata": {
        "id": "Zbgeh7k7bizS"
      },
      "source": [
        "train_path = '/content/drive/My Drive/Datasets/Hacker_Earth_Challenges/Adopt_a_pet/Dataset/train.csv'\n",
        "test_path = '/content/drive/My Drive/Datasets/Hacker_Earth_Challenges/Adopt_a_pet/Dataset/test.csv'"
      ],
      "execution_count": 4,
      "outputs": []
    },
    {
      "cell_type": "markdown",
      "metadata": {
        "id": "KmAQGrP8JZ3h"
      },
      "source": [
        "## Exploring the data"
      ]
    },
    {
      "cell_type": "code",
      "metadata": {
        "_uuid": "d629ff2d2480ee46fbb7e2d37f6b5fab8052498a",
        "_cell_guid": "79c7e3d0-c299-4dcb-8224-4455121ee9b0",
        "trusted": true,
        "id": "JPBBB9uTakBH"
      },
      "source": [
        "train=pd.read_csv(train_path)\n",
        "test=pd.read_csv(test_path)"
      ],
      "execution_count": 148,
      "outputs": []
    },
    {
      "cell_type": "code",
      "metadata": {
        "trusted": true,
        "id": "vGhqMGLlakBK",
        "outputId": "93442c9e-1038-44e9-8cc0-e76bac6fc150",
        "colab": {
          "base_uri": "https://localhost:8080/",
          "height": 309
        }
      },
      "source": [
        "train.head()"
      ],
      "execution_count": 149,
      "outputs": [
        {
          "output_type": "execute_result",
          "data": {
            "text/html": [
              "<div>\n",
              "<style scoped>\n",
              "    .dataframe tbody tr th:only-of-type {\n",
              "        vertical-align: middle;\n",
              "    }\n",
              "\n",
              "    .dataframe tbody tr th {\n",
              "        vertical-align: top;\n",
              "    }\n",
              "\n",
              "    .dataframe thead th {\n",
              "        text-align: right;\n",
              "    }\n",
              "</style>\n",
              "<table border=\"1\" class=\"dataframe\">\n",
              "  <thead>\n",
              "    <tr style=\"text-align: right;\">\n",
              "      <th></th>\n",
              "      <th>pet_id</th>\n",
              "      <th>issue_date</th>\n",
              "      <th>listing_date</th>\n",
              "      <th>condition</th>\n",
              "      <th>color_type</th>\n",
              "      <th>length(m)</th>\n",
              "      <th>height(cm)</th>\n",
              "      <th>X1</th>\n",
              "      <th>X2</th>\n",
              "      <th>breed_category</th>\n",
              "      <th>pet_category</th>\n",
              "    </tr>\n",
              "  </thead>\n",
              "  <tbody>\n",
              "    <tr>\n",
              "      <th>0</th>\n",
              "      <td>ANSL_69903</td>\n",
              "      <td>2016-07-10 00:00:00</td>\n",
              "      <td>2016-09-21 16:25:00</td>\n",
              "      <td>2.0</td>\n",
              "      <td>Brown Tabby</td>\n",
              "      <td>0.80</td>\n",
              "      <td>7.78</td>\n",
              "      <td>13</td>\n",
              "      <td>9</td>\n",
              "      <td>0.0</td>\n",
              "      <td>1</td>\n",
              "    </tr>\n",
              "    <tr>\n",
              "      <th>1</th>\n",
              "      <td>ANSL_66892</td>\n",
              "      <td>2013-11-21 00:00:00</td>\n",
              "      <td>2018-12-27 17:47:00</td>\n",
              "      <td>1.0</td>\n",
              "      <td>White</td>\n",
              "      <td>0.72</td>\n",
              "      <td>14.19</td>\n",
              "      <td>13</td>\n",
              "      <td>9</td>\n",
              "      <td>0.0</td>\n",
              "      <td>2</td>\n",
              "    </tr>\n",
              "    <tr>\n",
              "      <th>2</th>\n",
              "      <td>ANSL_69750</td>\n",
              "      <td>2014-09-28 00:00:00</td>\n",
              "      <td>2016-10-19 08:24:00</td>\n",
              "      <td>NaN</td>\n",
              "      <td>Brown</td>\n",
              "      <td>0.15</td>\n",
              "      <td>40.90</td>\n",
              "      <td>15</td>\n",
              "      <td>4</td>\n",
              "      <td>2.0</td>\n",
              "      <td>4</td>\n",
              "    </tr>\n",
              "    <tr>\n",
              "      <th>3</th>\n",
              "      <td>ANSL_71623</td>\n",
              "      <td>2016-12-31 00:00:00</td>\n",
              "      <td>2019-01-25 18:30:00</td>\n",
              "      <td>1.0</td>\n",
              "      <td>White</td>\n",
              "      <td>0.62</td>\n",
              "      <td>17.82</td>\n",
              "      <td>0</td>\n",
              "      <td>1</td>\n",
              "      <td>0.0</td>\n",
              "      <td>2</td>\n",
              "    </tr>\n",
              "    <tr>\n",
              "      <th>4</th>\n",
              "      <td>ANSL_57969</td>\n",
              "      <td>2017-09-28 00:00:00</td>\n",
              "      <td>2017-11-19 09:38:00</td>\n",
              "      <td>2.0</td>\n",
              "      <td>Black</td>\n",
              "      <td>0.50</td>\n",
              "      <td>11.06</td>\n",
              "      <td>18</td>\n",
              "      <td>4</td>\n",
              "      <td>0.0</td>\n",
              "      <td>1</td>\n",
              "    </tr>\n",
              "  </tbody>\n",
              "</table>\n",
              "</div>"
            ],
            "text/plain": [
              "       pet_id           issue_date  ... breed_category  pet_category\n",
              "0  ANSL_69903  2016-07-10 00:00:00  ...            0.0             1\n",
              "1  ANSL_66892  2013-11-21 00:00:00  ...            0.0             2\n",
              "2  ANSL_69750  2014-09-28 00:00:00  ...            2.0             4\n",
              "3  ANSL_71623  2016-12-31 00:00:00  ...            0.0             2\n",
              "4  ANSL_57969  2017-09-28 00:00:00  ...            0.0             1\n",
              "\n",
              "[5 rows x 11 columns]"
            ]
          },
          "metadata": {
            "tags": []
          },
          "execution_count": 149
        }
      ]
    },
    {
      "cell_type": "code",
      "metadata": {
        "id": "0vCxfahcJnC2",
        "outputId": "d94a1982-ed29-4552-8a66-30b0ba387f29",
        "colab": {
          "base_uri": "https://localhost:8080/",
          "height": 204
        }
      },
      "source": [
        "test.head()"
      ],
      "execution_count": 150,
      "outputs": [
        {
          "output_type": "execute_result",
          "data": {
            "text/html": [
              "<div>\n",
              "<style scoped>\n",
              "    .dataframe tbody tr th:only-of-type {\n",
              "        vertical-align: middle;\n",
              "    }\n",
              "\n",
              "    .dataframe tbody tr th {\n",
              "        vertical-align: top;\n",
              "    }\n",
              "\n",
              "    .dataframe thead th {\n",
              "        text-align: right;\n",
              "    }\n",
              "</style>\n",
              "<table border=\"1\" class=\"dataframe\">\n",
              "  <thead>\n",
              "    <tr style=\"text-align: right;\">\n",
              "      <th></th>\n",
              "      <th>pet_id</th>\n",
              "      <th>issue_date</th>\n",
              "      <th>listing_date</th>\n",
              "      <th>condition</th>\n",
              "      <th>color_type</th>\n",
              "      <th>length(m)</th>\n",
              "      <th>height(cm)</th>\n",
              "      <th>X1</th>\n",
              "      <th>X2</th>\n",
              "    </tr>\n",
              "  </thead>\n",
              "  <tbody>\n",
              "    <tr>\n",
              "      <th>0</th>\n",
              "      <td>ANSL_75005</td>\n",
              "      <td>2005-08-17 00:00:00</td>\n",
              "      <td>2017-09-07 15:35:00</td>\n",
              "      <td>0.0</td>\n",
              "      <td>Black</td>\n",
              "      <td>0.87</td>\n",
              "      <td>42.73</td>\n",
              "      <td>0</td>\n",
              "      <td>7</td>\n",
              "    </tr>\n",
              "    <tr>\n",
              "      <th>1</th>\n",
              "      <td>ANSL_76663</td>\n",
              "      <td>2018-11-15 00:00:00</td>\n",
              "      <td>2019-05-08 17:24:00</td>\n",
              "      <td>1.0</td>\n",
              "      <td>Orange Tabby</td>\n",
              "      <td>0.06</td>\n",
              "      <td>6.71</td>\n",
              "      <td>0</td>\n",
              "      <td>1</td>\n",
              "    </tr>\n",
              "    <tr>\n",
              "      <th>2</th>\n",
              "      <td>ANSL_58259</td>\n",
              "      <td>2012-10-11 00:00:00</td>\n",
              "      <td>2018-04-02 16:51:00</td>\n",
              "      <td>1.0</td>\n",
              "      <td>Black</td>\n",
              "      <td>0.24</td>\n",
              "      <td>41.21</td>\n",
              "      <td>0</td>\n",
              "      <td>7</td>\n",
              "    </tr>\n",
              "    <tr>\n",
              "      <th>3</th>\n",
              "      <td>ANSL_67171</td>\n",
              "      <td>2015-02-13 00:00:00</td>\n",
              "      <td>2018-04-06 07:25:00</td>\n",
              "      <td>1.0</td>\n",
              "      <td>Black</td>\n",
              "      <td>0.29</td>\n",
              "      <td>8.46</td>\n",
              "      <td>7</td>\n",
              "      <td>1</td>\n",
              "    </tr>\n",
              "    <tr>\n",
              "      <th>4</th>\n",
              "      <td>ANSL_72871</td>\n",
              "      <td>2017-01-18 00:00:00</td>\n",
              "      <td>2018-04-26 13:42:00</td>\n",
              "      <td>1.0</td>\n",
              "      <td>Brown</td>\n",
              "      <td>0.71</td>\n",
              "      <td>30.92</td>\n",
              "      <td>0</td>\n",
              "      <td>7</td>\n",
              "    </tr>\n",
              "  </tbody>\n",
              "</table>\n",
              "</div>"
            ],
            "text/plain": [
              "       pet_id           issue_date         listing_date  ...  height(cm) X1  X2\n",
              "0  ANSL_75005  2005-08-17 00:00:00  2017-09-07 15:35:00  ...       42.73  0   7\n",
              "1  ANSL_76663  2018-11-15 00:00:00  2019-05-08 17:24:00  ...        6.71  0   1\n",
              "2  ANSL_58259  2012-10-11 00:00:00  2018-04-02 16:51:00  ...       41.21  0   7\n",
              "3  ANSL_67171  2015-02-13 00:00:00  2018-04-06 07:25:00  ...        8.46  7   1\n",
              "4  ANSL_72871  2017-01-18 00:00:00  2018-04-26 13:42:00  ...       30.92  0   7\n",
              "\n",
              "[5 rows x 9 columns]"
            ]
          },
          "metadata": {
            "tags": []
          },
          "execution_count": 150
        }
      ]
    },
    {
      "cell_type": "code",
      "metadata": {
        "trusted": true,
        "id": "2fPXYL0EakBO",
        "outputId": "3244424b-ccba-4ded-ef37-57f3a7256c3a",
        "colab": {
          "base_uri": "https://localhost:8080/",
          "height": 34
        }
      },
      "source": [
        "train.shape,test.shape"
      ],
      "execution_count": 151,
      "outputs": [
        {
          "output_type": "execute_result",
          "data": {
            "text/plain": [
              "((18834, 11), (8072, 9))"
            ]
          },
          "metadata": {
            "tags": []
          },
          "execution_count": 151
        }
      ]
    },
    {
      "cell_type": "code",
      "metadata": {
        "id": "NBQaZvdPOU77",
        "outputId": "0d6ed1fb-716f-4fa8-c02b-1e09edcdf8cc",
        "colab": {
          "base_uri": "https://localhost:8080/",
          "height": 266
        }
      },
      "source": [
        "train.corr() # condition, X1, X2  imp features"
      ],
      "execution_count": 152,
      "outputs": [
        {
          "output_type": "execute_result",
          "data": {
            "text/html": [
              "<div>\n",
              "<style scoped>\n",
              "    .dataframe tbody tr th:only-of-type {\n",
              "        vertical-align: middle;\n",
              "    }\n",
              "\n",
              "    .dataframe tbody tr th {\n",
              "        vertical-align: top;\n",
              "    }\n",
              "\n",
              "    .dataframe thead th {\n",
              "        text-align: right;\n",
              "    }\n",
              "</style>\n",
              "<table border=\"1\" class=\"dataframe\">\n",
              "  <thead>\n",
              "    <tr style=\"text-align: right;\">\n",
              "      <th></th>\n",
              "      <th>condition</th>\n",
              "      <th>length(m)</th>\n",
              "      <th>height(cm)</th>\n",
              "      <th>X1</th>\n",
              "      <th>X2</th>\n",
              "      <th>breed_category</th>\n",
              "      <th>pet_category</th>\n",
              "    </tr>\n",
              "  </thead>\n",
              "  <tbody>\n",
              "    <tr>\n",
              "      <th>condition</th>\n",
              "      <td>1.000000</td>\n",
              "      <td>-0.011219</td>\n",
              "      <td>-0.010793</td>\n",
              "      <td>0.338843</td>\n",
              "      <td>0.381696</td>\n",
              "      <td>-0.483503</td>\n",
              "      <td>-0.041660</td>\n",
              "    </tr>\n",
              "    <tr>\n",
              "      <th>length(m)</th>\n",
              "      <td>-0.011219</td>\n",
              "      <td>1.000000</td>\n",
              "      <td>-0.004464</td>\n",
              "      <td>-0.002893</td>\n",
              "      <td>-0.011175</td>\n",
              "      <td>0.007229</td>\n",
              "      <td>-0.003999</td>\n",
              "    </tr>\n",
              "    <tr>\n",
              "      <th>height(cm)</th>\n",
              "      <td>-0.010793</td>\n",
              "      <td>-0.004464</td>\n",
              "      <td>1.000000</td>\n",
              "      <td>-0.003801</td>\n",
              "      <td>-0.008216</td>\n",
              "      <td>0.011647</td>\n",
              "      <td>0.001976</td>\n",
              "    </tr>\n",
              "    <tr>\n",
              "      <th>X1</th>\n",
              "      <td>0.338843</td>\n",
              "      <td>-0.002893</td>\n",
              "      <td>-0.003801</td>\n",
              "      <td>1.000000</td>\n",
              "      <td>0.584396</td>\n",
              "      <td>0.240729</td>\n",
              "      <td>-0.032594</td>\n",
              "    </tr>\n",
              "    <tr>\n",
              "      <th>X2</th>\n",
              "      <td>0.381696</td>\n",
              "      <td>-0.011175</td>\n",
              "      <td>-0.008216</td>\n",
              "      <td>0.584396</td>\n",
              "      <td>1.000000</td>\n",
              "      <td>0.052530</td>\n",
              "      <td>-0.032116</td>\n",
              "    </tr>\n",
              "    <tr>\n",
              "      <th>breed_category</th>\n",
              "      <td>-0.483503</td>\n",
              "      <td>0.007229</td>\n",
              "      <td>0.011647</td>\n",
              "      <td>0.240729</td>\n",
              "      <td>0.052530</td>\n",
              "      <td>1.000000</td>\n",
              "      <td>0.209230</td>\n",
              "    </tr>\n",
              "    <tr>\n",
              "      <th>pet_category</th>\n",
              "      <td>-0.041660</td>\n",
              "      <td>-0.003999</td>\n",
              "      <td>0.001976</td>\n",
              "      <td>-0.032594</td>\n",
              "      <td>-0.032116</td>\n",
              "      <td>0.209230</td>\n",
              "      <td>1.000000</td>\n",
              "    </tr>\n",
              "  </tbody>\n",
              "</table>\n",
              "</div>"
            ],
            "text/plain": [
              "                condition  length(m)  ...  breed_category  pet_category\n",
              "condition        1.000000  -0.011219  ...       -0.483503     -0.041660\n",
              "length(m)       -0.011219   1.000000  ...        0.007229     -0.003999\n",
              "height(cm)      -0.010793  -0.004464  ...        0.011647      0.001976\n",
              "X1               0.338843  -0.002893  ...        0.240729     -0.032594\n",
              "X2               0.381696  -0.011175  ...        0.052530     -0.032116\n",
              "breed_category  -0.483503   0.007229  ...        1.000000      0.209230\n",
              "pet_category    -0.041660  -0.003999  ...        0.209230      1.000000\n",
              "\n",
              "[7 rows x 7 columns]"
            ]
          },
          "metadata": {
            "tags": []
          },
          "execution_count": 152
        }
      ]
    },
    {
      "cell_type": "markdown",
      "metadata": {
        "id": "9oHmRIggakBT"
      },
      "source": [
        "### Checking  missing values"
      ]
    },
    {
      "cell_type": "code",
      "metadata": {
        "trusted": true,
        "id": "XbdOqCtnakBU",
        "outputId": "680feb54-edd3-41ea-fd7d-028810d017bf",
        "colab": {
          "base_uri": "https://localhost:8080/",
          "height": 323
        }
      },
      "source": [
        "train.info() # 1477 missing in col condition"
      ],
      "execution_count": 153,
      "outputs": [
        {
          "output_type": "stream",
          "text": [
            "<class 'pandas.core.frame.DataFrame'>\n",
            "RangeIndex: 18834 entries, 0 to 18833\n",
            "Data columns (total 11 columns):\n",
            " #   Column          Non-Null Count  Dtype  \n",
            "---  ------          --------------  -----  \n",
            " 0   pet_id          18834 non-null  object \n",
            " 1   issue_date      18834 non-null  object \n",
            " 2   listing_date    18834 non-null  object \n",
            " 3   condition       17357 non-null  float64\n",
            " 4   color_type      18834 non-null  object \n",
            " 5   length(m)       18834 non-null  float64\n",
            " 6   height(cm)      18834 non-null  float64\n",
            " 7   X1              18834 non-null  int64  \n",
            " 8   X2              18834 non-null  int64  \n",
            " 9   breed_category  18834 non-null  float64\n",
            " 10  pet_category    18834 non-null  int64  \n",
            "dtypes: float64(4), int64(3), object(4)\n",
            "memory usage: 1.6+ MB\n"
          ],
          "name": "stdout"
        }
      ]
    },
    {
      "cell_type": "code",
      "metadata": {
        "trusted": true,
        "id": "2VgkkIMqakBX",
        "outputId": "df308bec-285d-476b-98fa-f8844ccec513",
        "colab": {
          "base_uri": "https://localhost:8080/",
          "height": 289
        }
      },
      "source": [
        "test.info() # 619 missing in condition col"
      ],
      "execution_count": 154,
      "outputs": [
        {
          "output_type": "stream",
          "text": [
            "<class 'pandas.core.frame.DataFrame'>\n",
            "RangeIndex: 8072 entries, 0 to 8071\n",
            "Data columns (total 9 columns):\n",
            " #   Column        Non-Null Count  Dtype  \n",
            "---  ------        --------------  -----  \n",
            " 0   pet_id        8072 non-null   object \n",
            " 1   issue_date    8072 non-null   object \n",
            " 2   listing_date  8072 non-null   object \n",
            " 3   condition     7453 non-null   float64\n",
            " 4   color_type    8072 non-null   object \n",
            " 5   length(m)     8072 non-null   float64\n",
            " 6   height(cm)    8072 non-null   float64\n",
            " 7   X1            8072 non-null   int64  \n",
            " 8   X2            8072 non-null   int64  \n",
            "dtypes: float64(3), int64(2), object(4)\n",
            "memory usage: 567.7+ KB\n"
          ],
          "name": "stdout"
        }
      ]
    },
    {
      "cell_type": "markdown",
      "metadata": {
        "id": "u2FuMkARakBc"
      },
      "source": [
        "we found missing values only in the column of 'Condition' column"
      ]
    },
    {
      "cell_type": "code",
      "metadata": {
        "trusted": true,
        "id": "vIOu1l13akBd",
        "outputId": "9aa9061c-942c-4a59-c314-22a342eb30ae",
        "colab": {
          "base_uri": "https://localhost:8080/",
          "height": 85
        }
      },
      "source": [
        "train['breed_category'].value_counts()"
      ],
      "execution_count": 155,
      "outputs": [
        {
          "output_type": "execute_result",
          "data": {
            "text/plain": [
              "0.0    9000\n",
              "1.0    8357\n",
              "2.0    1477\n",
              "Name: breed_category, dtype: int64"
            ]
          },
          "metadata": {
            "tags": []
          },
          "execution_count": 155
        }
      ]
    },
    {
      "cell_type": "code",
      "metadata": {
        "trusted": true,
        "id": "T5heekw0akBg",
        "outputId": "f6e21c08-e26b-4e4b-d208-0e5dffb7ab5b",
        "colab": {
          "base_uri": "https://localhost:8080/",
          "height": 51
        }
      },
      "source": [
        "#It means all the missing values belong to a single particular label. So, we can fill them with a unique value like -1.\n",
        "a=train['breed_category'][(np.isnan(train['condition']))]\n",
        "a.value_counts()"
      ],
      "execution_count": 156,
      "outputs": [
        {
          "output_type": "execute_result",
          "data": {
            "text/plain": [
              "2.0    1477\n",
              "Name: breed_category, dtype: int64"
            ]
          },
          "metadata": {
            "tags": []
          },
          "execution_count": 156
        }
      ]
    },
    {
      "cell_type": "markdown",
      "metadata": {
        "id": "UriKfT2TakBl"
      },
      "source": [
        "## combine train and test data for preprocessing "
      ]
    },
    {
      "cell_type": "code",
      "metadata": {
        "trusted": true,
        "id": "25ksvuy9akBm"
      },
      "source": [
        "#copy all test id to create submission file\n",
        "test_id=test['pet_id']\n",
        "td_shape=train.shape[0]"
      ],
      "execution_count": 157,
      "outputs": []
    },
    {
      "cell_type": "code",
      "metadata": {
        "trusted": true,
        "id": "WqxAp70iakBq"
      },
      "source": [
        "# Save the target variables  \n",
        "y1=train['breed_category']\n",
        "y2=train['pet_category']"
      ],
      "execution_count": 158,
      "outputs": []
    },
    {
      "cell_type": "code",
      "metadata": {
        "trusted": true,
        "id": "Nzao-NUgakBt"
      },
      "source": [
        "#combine test and train data\n",
        "comb_data = pd.concat((train, test)).reset_index(drop=True)\n",
        "comb_data.drop(['breed_category','pet_category'], axis=1, inplace=True)"
      ],
      "execution_count": 159,
      "outputs": []
    },
    {
      "cell_type": "markdown",
      "metadata": {
        "id": "cF9aE782akBy"
      },
      "source": [
        "# Feature Engineering"
      ]
    },
    {
      "cell_type": "markdown",
      "metadata": {
        "id": "aHzybvFNakBy"
      },
      "source": [
        "### All the 1477 missing values in Condition column are filled with '-1', i used 'mean' and '3' label but their accuracy is less compared to this."
      ]
    },
    {
      "cell_type": "code",
      "metadata": {
        "trusted": true,
        "id": "e-40VnkIakBz",
        "outputId": "435102d7-4306-4f53-c325-5134516f2cfa",
        "colab": {
          "base_uri": "https://localhost:8080/",
          "height": 289
        }
      },
      "source": [
        "comb_data['condition'].value_counts()\n",
        "comb_data['condition'].fillna(-1,inplace=True)\n",
        "comb_data['condition'].value_counts()\n",
        "comb_data.info() # can see no null values"
      ],
      "execution_count": 160,
      "outputs": [
        {
          "output_type": "stream",
          "text": [
            "<class 'pandas.core.frame.DataFrame'>\n",
            "RangeIndex: 26906 entries, 0 to 26905\n",
            "Data columns (total 9 columns):\n",
            " #   Column        Non-Null Count  Dtype  \n",
            "---  ------        --------------  -----  \n",
            " 0   pet_id        26906 non-null  object \n",
            " 1   issue_date    26906 non-null  object \n",
            " 2   listing_date  26906 non-null  object \n",
            " 3   condition     26906 non-null  float64\n",
            " 4   color_type    26906 non-null  object \n",
            " 5   length(m)     26906 non-null  float64\n",
            " 6   height(cm)    26906 non-null  float64\n",
            " 7   X1            26906 non-null  int64  \n",
            " 8   X2            26906 non-null  int64  \n",
            "dtypes: float64(3), int64(2), object(4)\n",
            "memory usage: 1.8+ MB\n"
          ],
          "name": "stdout"
        }
      ]
    },
    {
      "cell_type": "markdown",
      "metadata": {
        "id": "-DXxlyhwakCX"
      },
      "source": [
        "### time difference between issue and listing date(new feature) , the maturity of the pet to be adopted"
      ]
    },
    {
      "cell_type": "code",
      "metadata": {
        "trusted": true,
        "id": "tOvf8pDJakCL",
        "outputId": "ab831fd3-311d-440c-ca27-dd8d5338e61b",
        "colab": {
          "base_uri": "https://localhost:8080/",
          "height": 119
        }
      },
      "source": [
        "comb_data['issue_date']=pd.to_datetime(comb_data['issue_date'])\n",
        "comb_data['listing_date']=pd.to_datetime(comb_data['listing_date'])\n",
        "comb_data['issue_date'][:5]\n"
      ],
      "execution_count": 161,
      "outputs": [
        {
          "output_type": "execute_result",
          "data": {
            "text/plain": [
              "0   2016-07-10\n",
              "1   2013-11-21\n",
              "2   2014-09-28\n",
              "3   2016-12-31\n",
              "4   2017-09-28\n",
              "Name: issue_date, dtype: datetime64[ns]"
            ]
          },
          "metadata": {
            "tags": []
          },
          "execution_count": 161
        }
      ]
    },
    {
      "cell_type": "code",
      "metadata": {
        "trusted": true,
        "id": "BxGzCagQakCY"
      },
      "source": [
        "x=[]\n",
        "for d in comb_data['listing_date']:\n",
        "    y=d.year+(d.month/12.0)+(d.day/365.0)\n",
        "    x.append(y)\n",
        "comb_data['modified_listing_date']=x"
      ],
      "execution_count": 162,
      "outputs": []
    },
    {
      "cell_type": "code",
      "metadata": {
        "id": "DtmnjWmSdhuR",
        "outputId": "cd1627ef-c393-4c58-b5a3-286bb69c81a1",
        "colab": {
          "base_uri": "https://localhost:8080/",
          "height": 221
        }
      },
      "source": [
        "comb_data['modified_listing_date']"
      ],
      "execution_count": 163,
      "outputs": [
        {
          "output_type": "execute_result",
          "data": {
            "text/plain": [
              "0        2016.807534\n",
              "1        2019.073973\n",
              "2        2016.885388\n",
              "3        2019.151826\n",
              "4        2017.968721\n",
              "            ...     \n",
              "26901    2017.277397\n",
              "26902    2018.199543\n",
              "26903    2017.094292\n",
              "26904    2017.638128\n",
              "26905    2017.243379\n",
              "Name: modified_listing_date, Length: 26906, dtype: float64"
            ]
          },
          "metadata": {
            "tags": []
          },
          "execution_count": 163
        }
      ]
    },
    {
      "cell_type": "code",
      "metadata": {
        "trusted": true,
        "id": "hCHWaYp3akCd"
      },
      "source": [
        "x=[]\n",
        "for d in comb_data['issue_date']:\n",
        "    y=d.year+(d.month/12.0)+(d.day/365.0)\n",
        "    x.append(y)\n",
        "comb_data['modified_issue_date']=x"
      ],
      "execution_count": 164,
      "outputs": []
    },
    {
      "cell_type": "code",
      "metadata": {
        "trusted": true,
        "id": "B7YiqaR_akCj"
      },
      "source": [
        "comb_data['took_time']=abs(comb_data['modified_listing_date']-comb_data['modified_issue_date'])"
      ],
      "execution_count": 165,
      "outputs": []
    },
    {
      "cell_type": "code",
      "metadata": {
        "id": "wM_Q9s4vd9gr",
        "outputId": "a2818261-5190-435c-abb7-b5e74abd2258",
        "colab": {
          "base_uri": "https://localhost:8080/",
          "height": 119
        }
      },
      "source": [
        "comb_data['took_time'][:5]"
      ],
      "execution_count": 166,
      "outputs": [
        {
          "output_type": "execute_result",
          "data": {
            "text/plain": [
              "0    0.196804\n",
              "1    5.099772\n",
              "2    2.058676\n",
              "3    2.066895\n",
              "4    0.142009\n",
              "Name: took_time, dtype: float64"
            ]
          },
          "metadata": {
            "tags": []
          },
          "execution_count": 166
        }
      ]
    },
    {
      "cell_type": "markdown",
      "metadata": {
        "id": "zHVt6b3IakCn"
      },
      "source": [
        "## Pattern in  pet_id"
      ]
    },
    {
      "cell_type": "markdown",
      "metadata": {
        "id": "CXXTXoKuakCn"
      },
      "source": [
        "* when the dataset was creating, it might be happened that it was listing with special id for a particular animal.\n",
        "* just like ANSL_69903.so,all ANSL_6**** i.e., the id starts with 6 maybe a particular animal because we can see that all the ids are not coming serially.\n",
        "* so extracting the 1st and both 1st and 2nd numbers maybe a good feature."
      ]
    },
    {
      "cell_type": "code",
      "metadata": {
        "id": "5mWcGEEiQWKW",
        "outputId": "a01f49c2-38f3-4104-ad0d-2fa72f0d0448",
        "colab": {
          "base_uri": "https://localhost:8080/",
          "height": 51
        }
      },
      "source": [
        "print(comb_data['pet_id'][0], comb_data['pet_id'][1])\n",
        "len(comb_data['pet_id'][0])"
      ],
      "execution_count": 167,
      "outputs": [
        {
          "output_type": "stream",
          "text": [
            "ANSL_69903 ANSL_66892\n"
          ],
          "name": "stdout"
        },
        {
          "output_type": "execute_result",
          "data": {
            "text/plain": [
              "10"
            ]
          },
          "metadata": {
            "tags": []
          },
          "execution_count": 167
        }
      ]
    },
    {
      "cell_type": "code",
      "metadata": {
        "trusted": true,
        "id": "FU9jNnSwakCo"
      },
      "source": [
        "\n",
        "comb_data['1stnum'] = comb_data['pet_id'].str[:6]\n",
        "comb_data['1st2num'] = comb_data['pet_id'].str[:7]"
      ],
      "execution_count": 168,
      "outputs": []
    },
    {
      "cell_type": "markdown",
      "metadata": {
        "id": "NzXPMIlrakCu"
      },
      "source": [
        "## split back to the train and test data"
      ]
    },
    {
      "cell_type": "code",
      "metadata": {
        "trusted": true,
        "id": "bv_guekyakCv"
      },
      "source": [
        "train = comb_data[:td_shape]\n",
        "test = comb_data[td_shape:]"
      ],
      "execution_count": 169,
      "outputs": []
    },
    {
      "cell_type": "code",
      "metadata": {
        "id": "qCx5ZVkwQvwy",
        "outputId": "e0d36a4c-2eb9-4841-e54b-2af2d6122181",
        "colab": {
          "base_uri": "https://localhost:8080/",
          "height": 374
        }
      },
      "source": [
        "train.info() # remove 'issue_date', listing_dat, pet_id, modified_listing_date ,  modified_issue_date"
      ],
      "execution_count": 170,
      "outputs": [
        {
          "output_type": "stream",
          "text": [
            "<class 'pandas.core.frame.DataFrame'>\n",
            "RangeIndex: 18834 entries, 0 to 18833\n",
            "Data columns (total 14 columns):\n",
            " #   Column                 Non-Null Count  Dtype         \n",
            "---  ------                 --------------  -----         \n",
            " 0   pet_id                 18834 non-null  object        \n",
            " 1   issue_date             18834 non-null  datetime64[ns]\n",
            " 2   listing_date           18834 non-null  datetime64[ns]\n",
            " 3   condition              18834 non-null  float64       \n",
            " 4   color_type             18834 non-null  object        \n",
            " 5   length(m)              18834 non-null  float64       \n",
            " 6   height(cm)             18834 non-null  float64       \n",
            " 7   X1                     18834 non-null  int64         \n",
            " 8   X2                     18834 non-null  int64         \n",
            " 9   modified_listing_date  18834 non-null  float64       \n",
            " 10  modified_issue_date    18834 non-null  float64       \n",
            " 11  took_time              18834 non-null  float64       \n",
            " 12  1stnum                 18834 non-null  object        \n",
            " 13  1st2num                18834 non-null  object        \n",
            "dtypes: datetime64[ns](2), float64(6), int64(2), object(4)\n",
            "memory usage: 2.0+ MB\n"
          ],
          "name": "stdout"
        }
      ]
    },
    {
      "cell_type": "code",
      "metadata": {
        "id": "fknR7a4lRuxZ",
        "outputId": "13882457-311c-4dcf-e8bd-c1f1337a68d6",
        "colab": {
          "base_uri": "https://localhost:8080/",
          "height": 374
        }
      },
      "source": [
        "test.info()"
      ],
      "execution_count": 171,
      "outputs": [
        {
          "output_type": "stream",
          "text": [
            "<class 'pandas.core.frame.DataFrame'>\n",
            "RangeIndex: 8072 entries, 18834 to 26905\n",
            "Data columns (total 14 columns):\n",
            " #   Column                 Non-Null Count  Dtype         \n",
            "---  ------                 --------------  -----         \n",
            " 0   pet_id                 8072 non-null   object        \n",
            " 1   issue_date             8072 non-null   datetime64[ns]\n",
            " 2   listing_date           8072 non-null   datetime64[ns]\n",
            " 3   condition              8072 non-null   float64       \n",
            " 4   color_type             8072 non-null   object        \n",
            " 5   length(m)              8072 non-null   float64       \n",
            " 6   height(cm)             8072 non-null   float64       \n",
            " 7   X1                     8072 non-null   int64         \n",
            " 8   X2                     8072 non-null   int64         \n",
            " 9   modified_listing_date  8072 non-null   float64       \n",
            " 10  modified_issue_date    8072 non-null   float64       \n",
            " 11  took_time              8072 non-null   float64       \n",
            " 12  1stnum                 8072 non-null   object        \n",
            " 13  1st2num                8072 non-null   object        \n",
            "dtypes: datetime64[ns](2), float64(6), int64(2), object(4)\n",
            "memory usage: 883.0+ KB\n"
          ],
          "name": "stdout"
        }
      ]
    },
    {
      "cell_type": "code",
      "metadata": {
        "trusted": true,
        "id": "QvNAh_IHakC0"
      },
      "source": [
        "#drop some unnecessary features\n",
        "x=train.drop(['pet_id','issue_date','listing_date'],axis=1) #  'modified_issue_date''modified_listing_date'\n",
        "test=test.drop(['pet_id','issue_date','listing_date'],axis=1) #'modified_issue_date', 'modified_listing_date'\n"
      ],
      "execution_count": 172,
      "outputs": []
    },
    {
      "cell_type": "code",
      "metadata": {
        "trusted": true,
        "id": "Ynpby1opakC3",
        "outputId": "eec15516-de0e-4f83-d659-0274928d3685",
        "colab": {
          "base_uri": "https://localhost:8080/",
          "height": 323
        }
      },
      "source": [
        "x.info() # object dtype indices = 1, 9, 10 are cat_features"
      ],
      "execution_count": 173,
      "outputs": [
        {
          "output_type": "stream",
          "text": [
            "<class 'pandas.core.frame.DataFrame'>\n",
            "RangeIndex: 18834 entries, 0 to 18833\n",
            "Data columns (total 11 columns):\n",
            " #   Column                 Non-Null Count  Dtype  \n",
            "---  ------                 --------------  -----  \n",
            " 0   condition              18834 non-null  float64\n",
            " 1   color_type             18834 non-null  object \n",
            " 2   length(m)              18834 non-null  float64\n",
            " 3   height(cm)             18834 non-null  float64\n",
            " 4   X1                     18834 non-null  int64  \n",
            " 5   X2                     18834 non-null  int64  \n",
            " 6   modified_listing_date  18834 non-null  float64\n",
            " 7   modified_issue_date    18834 non-null  float64\n",
            " 8   took_time              18834 non-null  float64\n",
            " 9   1stnum                 18834 non-null  object \n",
            " 10  1st2num                18834 non-null  object \n",
            "dtypes: float64(6), int64(2), object(3)\n",
            "memory usage: 1.6+ MB\n"
          ],
          "name": "stdout"
        }
      ]
    },
    {
      "cell_type": "code",
      "metadata": {
        "id": "GZkx-WJGkY_Q"
      },
      "source": [
        "categorical_fea = [1,9,10]"
      ],
      "execution_count": 174,
      "outputs": []
    },
    {
      "cell_type": "markdown",
      "metadata": {
        "id": "lp8m1bqxakC5"
      },
      "source": [
        "* **handle categorical variable**"
      ]
    },
    {
      "cell_type": "code",
      "metadata": {
        "trusted": true,
        "id": "H-Yd65phakC6",
        "outputId": "de44a092-6628-4e9a-bc57-4b0b7e88fb0f",
        "colab": {
          "base_uri": "https://localhost:8080/",
          "height": 34
        }
      },
      "source": [
        "x.select_dtypes(exclude='number').columns.to_list()"
      ],
      "execution_count": 175,
      "outputs": [
        {
          "output_type": "execute_result",
          "data": {
            "text/plain": [
              "['color_type', '1stnum', '1st2num']"
            ]
          },
          "metadata": {
            "tags": []
          },
          "execution_count": 175
        }
      ]
    },
    {
      "cell_type": "markdown",
      "metadata": {
        "id": "UWj_LmJAakC8"
      },
      "source": [
        "\n",
        "\n",
        "# Catboost handles the categorical values, no need encode"
      ]
    },
    {
      "cell_type": "markdown",
      "metadata": {
        "id": "9AZEhvxJakDK"
      },
      "source": [
        "You can see that both shapes are not same. Train has 97 and test has 95 columns. It means the train and test data contain 2 extra columns after one-hot endcoding. We have to remove these 2 columns from the train data."
      ]
    },
    {
      "cell_type": "code",
      "metadata": {
        "id": "53Q09yNsUJ-n",
        "outputId": "1d3b273c-3758-4134-aeb5-6ca13b71b7cb",
        "colab": {
          "base_uri": "https://localhost:8080/",
          "height": 71
        }
      },
      "source": [
        "print(set(x.columns))\n",
        "print(set(test.columns))"
      ],
      "execution_count": 176,
      "outputs": [
        {
          "output_type": "stream",
          "text": [
            "{'took_time', 'color_type', 'height(cm)', 'X2', 'length(m)', '1stnum', '1st2num', 'modified_issue_date', 'condition', 'modified_listing_date', 'X1'}\n",
            "{'took_time', 'color_type', 'height(cm)', 'X2', 'length(m)', '1stnum', '1st2num', 'modified_issue_date', 'condition', 'modified_listing_date', 'X1'}\n"
          ],
          "name": "stdout"
        }
      ]
    },
    {
      "cell_type": "code",
      "metadata": {
        "trusted": true,
        "id": "fLU38x0QakDb"
      },
      "source": [
        "#again combining\n",
        "comb_data = pd.concat((x, test)).reset_index(drop=True)"
      ],
      "execution_count": 177,
      "outputs": []
    },
    {
      "cell_type": "code",
      "metadata": {
        "id": "fBGXpL65SbAP",
        "outputId": "611b8ac4-bdd1-4231-d76f-99e1e59d5c65",
        "colab": {
          "base_uri": "https://localhost:8080/",
          "height": 323
        }
      },
      "source": [
        "comb_data.info()"
      ],
      "execution_count": 178,
      "outputs": [
        {
          "output_type": "stream",
          "text": [
            "<class 'pandas.core.frame.DataFrame'>\n",
            "RangeIndex: 26906 entries, 0 to 26905\n",
            "Data columns (total 11 columns):\n",
            " #   Column                 Non-Null Count  Dtype  \n",
            "---  ------                 --------------  -----  \n",
            " 0   condition              26906 non-null  float64\n",
            " 1   color_type             26906 non-null  object \n",
            " 2   length(m)              26906 non-null  float64\n",
            " 3   height(cm)             26906 non-null  float64\n",
            " 4   X1                     26906 non-null  int64  \n",
            " 5   X2                     26906 non-null  int64  \n",
            " 6   modified_listing_date  26906 non-null  float64\n",
            " 7   modified_issue_date    26906 non-null  float64\n",
            " 8   took_time              26906 non-null  float64\n",
            " 9   1stnum                 26906 non-null  object \n",
            " 10  1st2num                26906 non-null  object \n",
            "dtypes: float64(6), int64(2), object(3)\n",
            "memory usage: 2.3+ MB\n"
          ],
          "name": "stdout"
        }
      ]
    },
    {
      "cell_type": "markdown",
      "metadata": {
        "id": "nN3nHP3vakDn"
      },
      "source": [
        "# split data for 1st model i.e., pet_category prediction"
      ]
    },
    {
      "cell_type": "code",
      "metadata": {
        "trusted": true,
        "id": "w6nnUTDJakDp"
      },
      "source": [
        "x = comb_data[:td_shape]\n",
        "test = comb_data[td_shape:]"
      ],
      "execution_count": 179,
      "outputs": []
    },
    {
      "cell_type": "code",
      "metadata": {
        "trusted": true,
        "id": "nsK9P7vbakDs"
      },
      "source": [
        "from sklearn.model_selection import train_test_split\n",
        "x1_train,x1_test,y1_train,y1_test=train_test_split(x,y2,test_size=0.2,random_state=0,shuffle=True)"
      ],
      "execution_count": 180,
      "outputs": []
    },
    {
      "cell_type": "markdown",
      "metadata": {
        "id": "vWirqMsPakDy"
      },
      "source": [
        "# model 1 build i.e pet_category prediction"
      ]
    },
    {
      "cell_type": "markdown",
      "metadata": {
        "id": "pXxx7fLwX40A"
      },
      "source": [
        "1. Learning rate set to 0.113996, 1000 iterations, score = 90.48\n",
        "2. Learning rate set to 0.148553, iterations = 500, 355, score = 90.83\n",
        "3. LEarning rate set to 0.314819, iterations = 70, score = 90.65\n",
        "4. learning_rate = 0.150553,iterations=386, score = 90.61\n",
        "\n",
        "\n"
      ]
    },
    {
      "cell_type": "code",
      "metadata": {
        "id": "9KG5HMgCgY_y",
        "outputId": "cfb6d78c-5f8c-495b-92b3-6871968750d7",
        "colab": {
          "base_uri": "https://localhost:8080/",
          "height": 1000
        }
      },
      "source": [
        "from catboost import CatBoostClassifier #learning_rate = 0.148553,iterations = 55,learning_rate =0.357999,learning_rate =0.216294 : 187\n",
        "model1 = CatBoostClassifier(learning_rate = 0.148553,iterations=355,cat_features = categorical_fea,loss_function='MultiClass', use_best_model=True) #learning_rate=0.05,\n",
        "model1.fit(x1_train, y1_train, eval_set=(x1_test, y1_test))"
      ],
      "execution_count": 181,
      "outputs": [
        {
          "output_type": "stream",
          "text": [
            "0:\tlearn: 1.0750403\ttest: 1.0746283\tbest: 1.0746283 (0)\ttotal: 62ms\tremaining: 22s\n",
            "1:\tlearn: 0.9027654\ttest: 0.9015450\tbest: 0.9015450 (1)\ttotal: 109ms\tremaining: 19.2s\n",
            "2:\tlearn: 0.7812986\ttest: 0.7798992\tbest: 0.7798992 (2)\ttotal: 160ms\tremaining: 18.7s\n",
            "3:\tlearn: 0.6844208\ttest: 0.6819118\tbest: 0.6819118 (3)\ttotal: 226ms\tremaining: 19.8s\n",
            "4:\tlearn: 0.6122170\ttest: 0.6089344\tbest: 0.6089344 (4)\ttotal: 299ms\tremaining: 20.9s\n",
            "5:\tlearn: 0.5532420\ttest: 0.5496501\tbest: 0.5496501 (5)\ttotal: 367ms\tremaining: 21.3s\n",
            "6:\tlearn: 0.5102623\ttest: 0.5066405\tbest: 0.5066405 (6)\ttotal: 440ms\tremaining: 21.9s\n",
            "7:\tlearn: 0.4705051\ttest: 0.4664597\tbest: 0.4664597 (7)\ttotal: 500ms\tremaining: 21.7s\n",
            "8:\tlearn: 0.4397278\ttest: 0.4357808\tbest: 0.4357808 (8)\ttotal: 562ms\tremaining: 21.6s\n",
            "9:\tlearn: 0.4137835\ttest: 0.4095718\tbest: 0.4095718 (9)\ttotal: 617ms\tremaining: 21.3s\n",
            "10:\tlearn: 0.3933516\ttest: 0.3887787\tbest: 0.3887787 (10)\ttotal: 660ms\tremaining: 20.6s\n",
            "11:\tlearn: 0.3770387\ttest: 0.3723696\tbest: 0.3723696 (11)\ttotal: 710ms\tremaining: 20.3s\n",
            "12:\tlearn: 0.3629221\ttest: 0.3582198\tbest: 0.3582198 (12)\ttotal: 775ms\tremaining: 20.4s\n",
            "13:\tlearn: 0.3498447\ttest: 0.3447922\tbest: 0.3447922 (13)\ttotal: 834ms\tremaining: 20.3s\n",
            "14:\tlearn: 0.3375775\ttest: 0.3319033\tbest: 0.3319033 (14)\ttotal: 904ms\tremaining: 20.5s\n",
            "15:\tlearn: 0.3277120\ttest: 0.3220510\tbest: 0.3220510 (15)\ttotal: 962ms\tremaining: 20.4s\n",
            "16:\tlearn: 0.3194127\ttest: 0.3136628\tbest: 0.3136628 (16)\ttotal: 1.02s\tremaining: 20.3s\n",
            "17:\tlearn: 0.3127366\ttest: 0.3069585\tbest: 0.3069585 (17)\ttotal: 1.07s\tremaining: 20.1s\n",
            "18:\tlearn: 0.3058781\ttest: 0.2998869\tbest: 0.2998869 (18)\ttotal: 1.14s\tremaining: 20.1s\n",
            "19:\tlearn: 0.3020623\ttest: 0.2959148\tbest: 0.2959148 (19)\ttotal: 1.19s\tremaining: 20s\n",
            "20:\tlearn: 0.2977914\ttest: 0.2912639\tbest: 0.2912639 (20)\ttotal: 1.25s\tremaining: 19.8s\n",
            "21:\tlearn: 0.2932977\ttest: 0.2866586\tbest: 0.2866586 (21)\ttotal: 1.3s\tremaining: 19.7s\n",
            "22:\tlearn: 0.2902887\ttest: 0.2835003\tbest: 0.2835003 (22)\ttotal: 1.35s\tremaining: 19.5s\n",
            "23:\tlearn: 0.2874473\ttest: 0.2808918\tbest: 0.2808918 (23)\ttotal: 1.41s\tremaining: 19.5s\n",
            "24:\tlearn: 0.2841346\ttest: 0.2779428\tbest: 0.2779428 (24)\ttotal: 1.48s\tremaining: 19.5s\n",
            "25:\tlearn: 0.2819952\ttest: 0.2756021\tbest: 0.2756021 (25)\ttotal: 1.53s\tremaining: 19.4s\n",
            "26:\tlearn: 0.2803635\ttest: 0.2738356\tbest: 0.2738356 (26)\ttotal: 1.58s\tremaining: 19.2s\n",
            "27:\tlearn: 0.2789812\ttest: 0.2723931\tbest: 0.2723931 (27)\ttotal: 1.64s\tremaining: 19.1s\n",
            "28:\tlearn: 0.2774849\ttest: 0.2707181\tbest: 0.2707181 (28)\ttotal: 1.7s\tremaining: 19.1s\n",
            "29:\tlearn: 0.2744873\ttest: 0.2683762\tbest: 0.2683762 (29)\ttotal: 1.75s\tremaining: 19s\n",
            "30:\tlearn: 0.2732655\ttest: 0.2673262\tbest: 0.2673262 (30)\ttotal: 1.8s\tremaining: 18.9s\n",
            "31:\tlearn: 0.2723550\ttest: 0.2665971\tbest: 0.2665971 (31)\ttotal: 1.85s\tremaining: 18.7s\n",
            "32:\tlearn: 0.2716105\ttest: 0.2658409\tbest: 0.2658409 (32)\ttotal: 1.91s\tremaining: 18.6s\n",
            "33:\tlearn: 0.2704161\ttest: 0.2648042\tbest: 0.2648042 (33)\ttotal: 1.99s\tremaining: 18.8s\n",
            "34:\tlearn: 0.2701005\ttest: 0.2642811\tbest: 0.2642811 (34)\ttotal: 2.04s\tremaining: 18.6s\n",
            "35:\tlearn: 0.2685996\ttest: 0.2630010\tbest: 0.2630010 (35)\ttotal: 2.09s\tremaining: 18.5s\n",
            "36:\tlearn: 0.2678610\ttest: 0.2621702\tbest: 0.2621702 (36)\ttotal: 2.13s\tremaining: 18.4s\n",
            "37:\tlearn: 0.2670293\ttest: 0.2613398\tbest: 0.2613398 (37)\ttotal: 2.2s\tremaining: 18.3s\n",
            "38:\tlearn: 0.2659273\ttest: 0.2605631\tbest: 0.2605631 (38)\ttotal: 2.25s\tremaining: 18.2s\n",
            "39:\tlearn: 0.2654651\ttest: 0.2601642\tbest: 0.2601642 (39)\ttotal: 2.3s\tremaining: 18.1s\n",
            "40:\tlearn: 0.2649030\ttest: 0.2598289\tbest: 0.2598289 (40)\ttotal: 2.35s\tremaining: 18s\n",
            "41:\tlearn: 0.2641987\ttest: 0.2592805\tbest: 0.2592805 (41)\ttotal: 2.42s\tremaining: 18s\n",
            "42:\tlearn: 0.2640820\ttest: 0.2592773\tbest: 0.2592773 (42)\ttotal: 2.47s\tremaining: 17.9s\n",
            "43:\tlearn: 0.2637702\ttest: 0.2590474\tbest: 0.2590474 (43)\ttotal: 2.52s\tremaining: 17.8s\n",
            "44:\tlearn: 0.2631274\ttest: 0.2586536\tbest: 0.2586536 (44)\ttotal: 2.58s\tremaining: 17.7s\n",
            "45:\tlearn: 0.2622691\ttest: 0.2582808\tbest: 0.2582808 (45)\ttotal: 2.64s\tremaining: 17.7s\n",
            "46:\tlearn: 0.2618700\ttest: 0.2580543\tbest: 0.2580543 (46)\ttotal: 2.69s\tremaining: 17.7s\n",
            "47:\tlearn: 0.2611916\ttest: 0.2576862\tbest: 0.2576862 (47)\ttotal: 2.75s\tremaining: 17.6s\n",
            "48:\tlearn: 0.2608359\ttest: 0.2573848\tbest: 0.2573848 (48)\ttotal: 2.79s\tremaining: 17.5s\n",
            "49:\tlearn: 0.2606435\ttest: 0.2573737\tbest: 0.2573737 (49)\ttotal: 2.85s\tremaining: 17.4s\n",
            "50:\tlearn: 0.2598199\ttest: 0.2569375\tbest: 0.2569375 (50)\ttotal: 2.91s\tremaining: 17.3s\n",
            "51:\tlearn: 0.2594912\ttest: 0.2567438\tbest: 0.2567438 (51)\ttotal: 2.96s\tremaining: 17.2s\n",
            "52:\tlearn: 0.2591846\ttest: 0.2568388\tbest: 0.2567438 (51)\ttotal: 3.02s\tremaining: 17.2s\n",
            "53:\tlearn: 0.2588850\ttest: 0.2566614\tbest: 0.2566614 (53)\ttotal: 3.07s\tremaining: 17.1s\n",
            "54:\tlearn: 0.2586516\ttest: 0.2564393\tbest: 0.2564393 (54)\ttotal: 3.13s\tremaining: 17s\n",
            "55:\tlearn: 0.2580754\ttest: 0.2565962\tbest: 0.2564393 (54)\ttotal: 3.18s\tremaining: 17s\n",
            "56:\tlearn: 0.2576119\ttest: 0.2565483\tbest: 0.2564393 (54)\ttotal: 3.24s\tremaining: 16.9s\n",
            "57:\tlearn: 0.2572744\ttest: 0.2564472\tbest: 0.2564393 (54)\ttotal: 3.3s\tremaining: 16.9s\n",
            "58:\tlearn: 0.2562177\ttest: 0.2558347\tbest: 0.2558347 (58)\ttotal: 3.35s\tremaining: 16.8s\n",
            "59:\tlearn: 0.2559075\ttest: 0.2556470\tbest: 0.2556470 (59)\ttotal: 3.4s\tremaining: 16.7s\n",
            "60:\tlearn: 0.2550257\ttest: 0.2552684\tbest: 0.2552684 (60)\ttotal: 3.47s\tremaining: 16.7s\n",
            "61:\tlearn: 0.2548677\ttest: 0.2552588\tbest: 0.2552588 (61)\ttotal: 3.52s\tremaining: 16.6s\n",
            "62:\tlearn: 0.2548673\ttest: 0.2552502\tbest: 0.2552502 (62)\ttotal: 3.53s\tremaining: 16.4s\n",
            "63:\tlearn: 0.2539219\ttest: 0.2547510\tbest: 0.2547510 (63)\ttotal: 3.59s\tremaining: 16.3s\n",
            "64:\tlearn: 0.2535560\ttest: 0.2546517\tbest: 0.2546517 (64)\ttotal: 3.65s\tremaining: 16.3s\n",
            "65:\tlearn: 0.2531326\ttest: 0.2544412\tbest: 0.2544412 (65)\ttotal: 3.7s\tremaining: 16.2s\n",
            "66:\tlearn: 0.2525616\ttest: 0.2541139\tbest: 0.2541139 (66)\ttotal: 3.76s\tremaining: 16.2s\n",
            "67:\tlearn: 0.2523434\ttest: 0.2541841\tbest: 0.2541139 (66)\ttotal: 3.82s\tremaining: 16.1s\n",
            "68:\tlearn: 0.2513866\ttest: 0.2532879\tbest: 0.2532879 (68)\ttotal: 3.88s\tremaining: 16.1s\n",
            "69:\tlearn: 0.2499455\ttest: 0.2526698\tbest: 0.2526698 (69)\ttotal: 3.95s\tremaining: 16.1s\n",
            "70:\tlearn: 0.2497575\ttest: 0.2526470\tbest: 0.2526470 (70)\ttotal: 4s\tremaining: 16s\n",
            "71:\tlearn: 0.2494156\ttest: 0.2524580\tbest: 0.2524580 (71)\ttotal: 4.06s\tremaining: 16s\n",
            "72:\tlearn: 0.2491687\ttest: 0.2524483\tbest: 0.2524483 (72)\ttotal: 4.12s\tremaining: 15.9s\n",
            "73:\tlearn: 0.2486874\ttest: 0.2521626\tbest: 0.2521626 (73)\ttotal: 4.18s\tremaining: 15.9s\n",
            "74:\tlearn: 0.2485609\ttest: 0.2521282\tbest: 0.2521282 (74)\ttotal: 4.24s\tremaining: 15.8s\n",
            "75:\tlearn: 0.2482654\ttest: 0.2520934\tbest: 0.2520934 (75)\ttotal: 4.3s\tremaining: 15.8s\n",
            "76:\tlearn: 0.2481062\ttest: 0.2519049\tbest: 0.2519049 (76)\ttotal: 4.35s\tremaining: 15.7s\n",
            "77:\tlearn: 0.2469775\ttest: 0.2511636\tbest: 0.2511636 (77)\ttotal: 4.42s\tremaining: 15.7s\n",
            "78:\tlearn: 0.2465983\ttest: 0.2508052\tbest: 0.2508052 (78)\ttotal: 4.47s\tremaining: 15.6s\n",
            "79:\tlearn: 0.2463643\ttest: 0.2508861\tbest: 0.2508052 (78)\ttotal: 4.53s\tremaining: 15.6s\n",
            "80:\tlearn: 0.2462808\ttest: 0.2508577\tbest: 0.2508052 (78)\ttotal: 4.57s\tremaining: 15.5s\n",
            "81:\tlearn: 0.2460051\ttest: 0.2508582\tbest: 0.2508052 (78)\ttotal: 4.63s\tremaining: 15.4s\n",
            "82:\tlearn: 0.2458793\ttest: 0.2509210\tbest: 0.2508052 (78)\ttotal: 4.69s\tremaining: 15.4s\n",
            "83:\tlearn: 0.2447824\ttest: 0.2500581\tbest: 0.2500581 (83)\ttotal: 4.75s\tremaining: 15.3s\n",
            "84:\tlearn: 0.2439085\ttest: 0.2496634\tbest: 0.2496634 (84)\ttotal: 4.81s\tremaining: 15.3s\n",
            "85:\tlearn: 0.2435681\ttest: 0.2497216\tbest: 0.2496634 (84)\ttotal: 4.87s\tremaining: 15.2s\n",
            "86:\tlearn: 0.2429517\ttest: 0.2493803\tbest: 0.2493803 (86)\ttotal: 4.94s\tremaining: 15.2s\n",
            "87:\tlearn: 0.2420166\ttest: 0.2486648\tbest: 0.2486648 (87)\ttotal: 5s\tremaining: 15.2s\n",
            "88:\tlearn: 0.2419077\ttest: 0.2486134\tbest: 0.2486134 (88)\ttotal: 5.06s\tremaining: 15.1s\n",
            "89:\tlearn: 0.2411867\ttest: 0.2483763\tbest: 0.2483763 (89)\ttotal: 5.12s\tremaining: 15.1s\n",
            "90:\tlearn: 0.2409383\ttest: 0.2482695\tbest: 0.2482695 (90)\ttotal: 5.18s\tremaining: 15s\n",
            "91:\tlearn: 0.2405153\ttest: 0.2478833\tbest: 0.2478833 (91)\ttotal: 5.24s\tremaining: 15s\n",
            "92:\tlearn: 0.2402975\ttest: 0.2478548\tbest: 0.2478548 (92)\ttotal: 5.3s\tremaining: 14.9s\n",
            "93:\tlearn: 0.2401792\ttest: 0.2478687\tbest: 0.2478548 (92)\ttotal: 5.36s\tremaining: 14.9s\n",
            "94:\tlearn: 0.2395310\ttest: 0.2477031\tbest: 0.2477031 (94)\ttotal: 5.42s\tremaining: 14.8s\n",
            "95:\tlearn: 0.2394783\ttest: 0.2477422\tbest: 0.2477031 (94)\ttotal: 5.48s\tremaining: 14.8s\n",
            "96:\tlearn: 0.2393081\ttest: 0.2477616\tbest: 0.2477031 (94)\ttotal: 5.54s\tremaining: 14.7s\n",
            "97:\tlearn: 0.2390227\ttest: 0.2476948\tbest: 0.2476948 (97)\ttotal: 5.6s\tremaining: 14.7s\n",
            "98:\tlearn: 0.2382569\ttest: 0.2472707\tbest: 0.2472707 (98)\ttotal: 5.66s\tremaining: 14.6s\n",
            "99:\tlearn: 0.2380056\ttest: 0.2470918\tbest: 0.2470918 (99)\ttotal: 5.72s\tremaining: 14.6s\n",
            "100:\tlearn: 0.2377376\ttest: 0.2469739\tbest: 0.2469739 (100)\ttotal: 5.77s\tremaining: 14.5s\n",
            "101:\tlearn: 0.2376197\ttest: 0.2469630\tbest: 0.2469630 (101)\ttotal: 5.83s\tremaining: 14.5s\n",
            "102:\tlearn: 0.2370619\ttest: 0.2467853\tbest: 0.2467853 (102)\ttotal: 5.89s\tremaining: 14.4s\n",
            "103:\tlearn: 0.2369235\ttest: 0.2467666\tbest: 0.2467666 (103)\ttotal: 5.95s\tremaining: 14.4s\n",
            "104:\tlearn: 0.2365014\ttest: 0.2469053\tbest: 0.2467666 (103)\ttotal: 6.01s\tremaining: 14.3s\n",
            "105:\tlearn: 0.2363570\ttest: 0.2468898\tbest: 0.2467666 (103)\ttotal: 6.06s\tremaining: 14.2s\n",
            "106:\tlearn: 0.2361075\ttest: 0.2467435\tbest: 0.2467435 (106)\ttotal: 6.12s\tremaining: 14.2s\n",
            "107:\tlearn: 0.2359102\ttest: 0.2466291\tbest: 0.2466291 (107)\ttotal: 6.17s\tremaining: 14.1s\n",
            "108:\tlearn: 0.2357911\ttest: 0.2465818\tbest: 0.2465818 (108)\ttotal: 6.22s\tremaining: 14.1s\n",
            "109:\tlearn: 0.2354864\ttest: 0.2466349\tbest: 0.2465818 (108)\ttotal: 6.28s\tremaining: 14s\n",
            "110:\tlearn: 0.2353470\ttest: 0.2466089\tbest: 0.2465818 (108)\ttotal: 6.34s\tremaining: 13.9s\n",
            "111:\tlearn: 0.2351127\ttest: 0.2464832\tbest: 0.2464832 (111)\ttotal: 6.39s\tremaining: 13.9s\n",
            "112:\tlearn: 0.2349422\ttest: 0.2465702\tbest: 0.2464832 (111)\ttotal: 6.45s\tremaining: 13.8s\n",
            "113:\tlearn: 0.2346304\ttest: 0.2466004\tbest: 0.2464832 (111)\ttotal: 6.51s\tremaining: 13.8s\n",
            "114:\tlearn: 0.2339919\ttest: 0.2463519\tbest: 0.2463519 (114)\ttotal: 6.58s\tremaining: 13.7s\n",
            "115:\tlearn: 0.2337076\ttest: 0.2463184\tbest: 0.2463184 (115)\ttotal: 6.64s\tremaining: 13.7s\n",
            "116:\tlearn: 0.2332227\ttest: 0.2461553\tbest: 0.2461553 (116)\ttotal: 6.69s\tremaining: 13.6s\n",
            "117:\tlearn: 0.2325956\ttest: 0.2460425\tbest: 0.2460425 (117)\ttotal: 6.75s\tremaining: 13.6s\n",
            "118:\tlearn: 0.2323607\ttest: 0.2458807\tbest: 0.2458807 (118)\ttotal: 6.81s\tremaining: 13.5s\n",
            "119:\tlearn: 0.2322693\ttest: 0.2457845\tbest: 0.2457845 (119)\ttotal: 6.85s\tremaining: 13.4s\n",
            "120:\tlearn: 0.2319324\ttest: 0.2456810\tbest: 0.2456810 (120)\ttotal: 6.91s\tremaining: 13.4s\n",
            "121:\tlearn: 0.2317672\ttest: 0.2455352\tbest: 0.2455352 (121)\ttotal: 6.96s\tremaining: 13.3s\n",
            "122:\tlearn: 0.2310236\ttest: 0.2449480\tbest: 0.2449480 (122)\ttotal: 7.03s\tremaining: 13.3s\n",
            "123:\tlearn: 0.2305573\ttest: 0.2447606\tbest: 0.2447606 (123)\ttotal: 7.08s\tremaining: 13.2s\n",
            "124:\tlearn: 0.2303917\ttest: 0.2445988\tbest: 0.2445988 (124)\ttotal: 7.14s\tremaining: 13.1s\n",
            "125:\tlearn: 0.2300651\ttest: 0.2445859\tbest: 0.2445859 (125)\ttotal: 7.2s\tremaining: 13.1s\n",
            "126:\tlearn: 0.2296910\ttest: 0.2444425\tbest: 0.2444425 (126)\ttotal: 7.26s\tremaining: 13s\n",
            "127:\tlearn: 0.2293515\ttest: 0.2443388\tbest: 0.2443388 (127)\ttotal: 7.32s\tremaining: 13s\n",
            "128:\tlearn: 0.2290414\ttest: 0.2442668\tbest: 0.2442668 (128)\ttotal: 7.38s\tremaining: 12.9s\n",
            "129:\tlearn: 0.2287054\ttest: 0.2442644\tbest: 0.2442644 (129)\ttotal: 7.44s\tremaining: 12.9s\n",
            "130:\tlearn: 0.2279211\ttest: 0.2435706\tbest: 0.2435706 (130)\ttotal: 7.51s\tremaining: 12.8s\n",
            "131:\tlearn: 0.2275387\ttest: 0.2436602\tbest: 0.2435706 (130)\ttotal: 7.57s\tremaining: 12.8s\n",
            "132:\tlearn: 0.2271491\ttest: 0.2435066\tbest: 0.2435066 (132)\ttotal: 7.62s\tremaining: 12.7s\n",
            "133:\tlearn: 0.2268957\ttest: 0.2434834\tbest: 0.2434834 (133)\ttotal: 7.68s\tremaining: 12.7s\n",
            "134:\tlearn: 0.2265422\ttest: 0.2433321\tbest: 0.2433321 (134)\ttotal: 7.74s\tremaining: 12.6s\n",
            "135:\tlearn: 0.2259011\ttest: 0.2430158\tbest: 0.2430158 (135)\ttotal: 7.8s\tremaining: 12.6s\n",
            "136:\tlearn: 0.2257362\ttest: 0.2429374\tbest: 0.2429374 (136)\ttotal: 7.85s\tremaining: 12.5s\n",
            "137:\tlearn: 0.2253421\ttest: 0.2427449\tbest: 0.2427449 (137)\ttotal: 7.91s\tremaining: 12.4s\n",
            "138:\tlearn: 0.2250351\ttest: 0.2425976\tbest: 0.2425976 (138)\ttotal: 7.98s\tremaining: 12.4s\n",
            "139:\tlearn: 0.2248106\ttest: 0.2426729\tbest: 0.2425976 (138)\ttotal: 8.04s\tremaining: 12.3s\n",
            "140:\tlearn: 0.2245974\ttest: 0.2425328\tbest: 0.2425328 (140)\ttotal: 8.1s\tremaining: 12.3s\n",
            "141:\tlearn: 0.2241596\ttest: 0.2425641\tbest: 0.2425328 (140)\ttotal: 8.15s\tremaining: 12.2s\n",
            "142:\tlearn: 0.2238415\ttest: 0.2424557\tbest: 0.2424557 (142)\ttotal: 8.22s\tremaining: 12.2s\n",
            "143:\tlearn: 0.2232230\ttest: 0.2423473\tbest: 0.2423473 (143)\ttotal: 8.28s\tremaining: 12.1s\n",
            "144:\tlearn: 0.2230264\ttest: 0.2422527\tbest: 0.2422527 (144)\ttotal: 8.34s\tremaining: 12.1s\n",
            "145:\tlearn: 0.2227340\ttest: 0.2422134\tbest: 0.2422134 (145)\ttotal: 8.4s\tremaining: 12s\n",
            "146:\tlearn: 0.2223008\ttest: 0.2418991\tbest: 0.2418991 (146)\ttotal: 8.46s\tremaining: 12s\n",
            "147:\tlearn: 0.2219742\ttest: 0.2418283\tbest: 0.2418283 (147)\ttotal: 8.52s\tremaining: 11.9s\n",
            "148:\tlearn: 0.2218249\ttest: 0.2417302\tbest: 0.2417302 (148)\ttotal: 8.58s\tremaining: 11.9s\n",
            "149:\tlearn: 0.2215600\ttest: 0.2416866\tbest: 0.2416866 (149)\ttotal: 8.64s\tremaining: 11.8s\n",
            "150:\tlearn: 0.2214041\ttest: 0.2417058\tbest: 0.2416866 (149)\ttotal: 8.7s\tremaining: 11.7s\n",
            "151:\tlearn: 0.2212081\ttest: 0.2416754\tbest: 0.2416754 (151)\ttotal: 8.75s\tremaining: 11.7s\n",
            "152:\tlearn: 0.2208996\ttest: 0.2416950\tbest: 0.2416754 (151)\ttotal: 8.81s\tremaining: 11.6s\n",
            "153:\tlearn: 0.2206864\ttest: 0.2417374\tbest: 0.2416754 (151)\ttotal: 8.87s\tremaining: 11.6s\n",
            "154:\tlearn: 0.2205459\ttest: 0.2416648\tbest: 0.2416648 (154)\ttotal: 8.93s\tremaining: 11.5s\n",
            "155:\tlearn: 0.2200975\ttest: 0.2413431\tbest: 0.2413431 (155)\ttotal: 8.99s\tremaining: 11.5s\n",
            "156:\tlearn: 0.2197262\ttest: 0.2414350\tbest: 0.2413431 (155)\ttotal: 9.04s\tremaining: 11.4s\n",
            "157:\tlearn: 0.2195569\ttest: 0.2414726\tbest: 0.2413431 (155)\ttotal: 9.1s\tremaining: 11.3s\n",
            "158:\tlearn: 0.2193745\ttest: 0.2413474\tbest: 0.2413431 (155)\ttotal: 9.16s\tremaining: 11.3s\n",
            "159:\tlearn: 0.2190852\ttest: 0.2411745\tbest: 0.2411745 (159)\ttotal: 9.21s\tremaining: 11.2s\n",
            "160:\tlearn: 0.2188234\ttest: 0.2411524\tbest: 0.2411524 (160)\ttotal: 9.27s\tremaining: 11.2s\n",
            "161:\tlearn: 0.2185426\ttest: 0.2412318\tbest: 0.2411524 (160)\ttotal: 9.33s\tremaining: 11.1s\n",
            "162:\tlearn: 0.2184784\ttest: 0.2412846\tbest: 0.2411524 (160)\ttotal: 9.39s\tremaining: 11.1s\n",
            "163:\tlearn: 0.2181677\ttest: 0.2413336\tbest: 0.2411524 (160)\ttotal: 9.45s\tremaining: 11s\n",
            "164:\tlearn: 0.2179325\ttest: 0.2413072\tbest: 0.2411524 (160)\ttotal: 9.52s\tremaining: 11s\n",
            "165:\tlearn: 0.2174178\ttest: 0.2412607\tbest: 0.2411524 (160)\ttotal: 9.58s\tremaining: 10.9s\n",
            "166:\tlearn: 0.2172898\ttest: 0.2413655\tbest: 0.2411524 (160)\ttotal: 9.63s\tremaining: 10.8s\n",
            "167:\tlearn: 0.2168432\ttest: 0.2411288\tbest: 0.2411288 (167)\ttotal: 9.69s\tremaining: 10.8s\n",
            "168:\tlearn: 0.2168099\ttest: 0.2411627\tbest: 0.2411288 (167)\ttotal: 9.74s\tremaining: 10.7s\n",
            "169:\tlearn: 0.2164741\ttest: 0.2410666\tbest: 0.2410666 (169)\ttotal: 9.8s\tremaining: 10.7s\n",
            "170:\tlearn: 0.2162835\ttest: 0.2408981\tbest: 0.2408981 (170)\ttotal: 9.87s\tremaining: 10.6s\n",
            "171:\tlearn: 0.2161712\ttest: 0.2408749\tbest: 0.2408749 (171)\ttotal: 9.93s\tremaining: 10.6s\n",
            "172:\tlearn: 0.2159832\ttest: 0.2409132\tbest: 0.2408749 (171)\ttotal: 9.99s\tremaining: 10.5s\n",
            "173:\tlearn: 0.2158163\ttest: 0.2409185\tbest: 0.2408749 (171)\ttotal: 10.1s\tremaining: 10.5s\n",
            "174:\tlearn: 0.2156290\ttest: 0.2408444\tbest: 0.2408444 (174)\ttotal: 10.1s\tremaining: 10.4s\n",
            "175:\tlearn: 0.2154521\ttest: 0.2408264\tbest: 0.2408264 (175)\ttotal: 10.2s\tremaining: 10.4s\n",
            "176:\tlearn: 0.2152143\ttest: 0.2408811\tbest: 0.2408264 (175)\ttotal: 10.2s\tremaining: 10.3s\n",
            "177:\tlearn: 0.2149392\ttest: 0.2408671\tbest: 0.2408264 (175)\ttotal: 10.3s\tremaining: 10.2s\n",
            "178:\tlearn: 0.2146276\ttest: 0.2408399\tbest: 0.2408264 (175)\ttotal: 10.3s\tremaining: 10.2s\n",
            "179:\tlearn: 0.2143893\ttest: 0.2407981\tbest: 0.2407981 (179)\ttotal: 10.4s\tremaining: 10.1s\n",
            "180:\tlearn: 0.2137825\ttest: 0.2408105\tbest: 0.2407981 (179)\ttotal: 10.5s\tremaining: 10.1s\n",
            "181:\tlearn: 0.2135415\ttest: 0.2407051\tbest: 0.2407051 (181)\ttotal: 10.5s\tremaining: 10s\n",
            "182:\tlearn: 0.2133245\ttest: 0.2404715\tbest: 0.2404715 (182)\ttotal: 10.6s\tremaining: 9.96s\n",
            "183:\tlearn: 0.2132184\ttest: 0.2404044\tbest: 0.2404044 (183)\ttotal: 10.7s\tremaining: 9.9s\n",
            "184:\tlearn: 0.2130017\ttest: 0.2403305\tbest: 0.2403305 (184)\ttotal: 10.7s\tremaining: 9.84s\n",
            "185:\tlearn: 0.2128527\ttest: 0.2403947\tbest: 0.2403305 (184)\ttotal: 10.8s\tremaining: 9.78s\n",
            "186:\tlearn: 0.2125383\ttest: 0.2402045\tbest: 0.2402045 (186)\ttotal: 10.8s\tremaining: 9.72s\n",
            "187:\tlearn: 0.2124211\ttest: 0.2401179\tbest: 0.2401179 (187)\ttotal: 10.9s\tremaining: 9.67s\n",
            "188:\tlearn: 0.2122963\ttest: 0.2401429\tbest: 0.2401179 (187)\ttotal: 10.9s\tremaining: 9.61s\n",
            "189:\tlearn: 0.2121743\ttest: 0.2401544\tbest: 0.2401179 (187)\ttotal: 11s\tremaining: 9.57s\n",
            "190:\tlearn: 0.2119631\ttest: 0.2401578\tbest: 0.2401179 (187)\ttotal: 11.1s\tremaining: 9.51s\n",
            "191:\tlearn: 0.2115177\ttest: 0.2399540\tbest: 0.2399540 (191)\ttotal: 11.1s\tremaining: 9.46s\n",
            "192:\tlearn: 0.2114401\ttest: 0.2400087\tbest: 0.2399540 (191)\ttotal: 11.2s\tremaining: 9.42s\n",
            "193:\tlearn: 0.2112964\ttest: 0.2399837\tbest: 0.2399540 (191)\ttotal: 11.3s\tremaining: 9.37s\n",
            "194:\tlearn: 0.2112158\ttest: 0.2399966\tbest: 0.2399540 (191)\ttotal: 11.3s\tremaining: 9.31s\n",
            "195:\tlearn: 0.2108240\ttest: 0.2397026\tbest: 0.2397026 (195)\ttotal: 11.4s\tremaining: 9.25s\n",
            "196:\tlearn: 0.2105814\ttest: 0.2395814\tbest: 0.2395814 (196)\ttotal: 11.5s\tremaining: 9.2s\n",
            "197:\tlearn: 0.2102178\ttest: 0.2394585\tbest: 0.2394585 (197)\ttotal: 11.5s\tremaining: 9.14s\n",
            "198:\tlearn: 0.2099680\ttest: 0.2396524\tbest: 0.2394585 (197)\ttotal: 11.6s\tremaining: 9.09s\n",
            "199:\tlearn: 0.2098964\ttest: 0.2396053\tbest: 0.2394585 (197)\ttotal: 11.7s\tremaining: 9.03s\n",
            "200:\tlearn: 0.2095427\ttest: 0.2396204\tbest: 0.2394585 (197)\ttotal: 11.7s\tremaining: 8.97s\n",
            "201:\tlearn: 0.2093415\ttest: 0.2395906\tbest: 0.2394585 (197)\ttotal: 11.8s\tremaining: 8.91s\n",
            "202:\tlearn: 0.2090920\ttest: 0.2396501\tbest: 0.2394585 (197)\ttotal: 11.8s\tremaining: 8.86s\n",
            "203:\tlearn: 0.2089511\ttest: 0.2396049\tbest: 0.2394585 (197)\ttotal: 11.9s\tremaining: 8.8s\n",
            "204:\tlearn: 0.2088259\ttest: 0.2395955\tbest: 0.2394585 (197)\ttotal: 11.9s\tremaining: 8.74s\n",
            "205:\tlearn: 0.2086942\ttest: 0.2396024\tbest: 0.2394585 (197)\ttotal: 12s\tremaining: 8.68s\n",
            "206:\tlearn: 0.2083933\ttest: 0.2396382\tbest: 0.2394585 (197)\ttotal: 12.1s\tremaining: 8.63s\n",
            "207:\tlearn: 0.2082384\ttest: 0.2396588\tbest: 0.2394585 (197)\ttotal: 12.1s\tremaining: 8.57s\n",
            "208:\tlearn: 0.2079080\ttest: 0.2394740\tbest: 0.2394585 (197)\ttotal: 12.2s\tremaining: 8.52s\n",
            "209:\tlearn: 0.2074741\ttest: 0.2394129\tbest: 0.2394129 (209)\ttotal: 12.3s\tremaining: 8.46s\n",
            "210:\tlearn: 0.2072525\ttest: 0.2394680\tbest: 0.2394129 (209)\ttotal: 12.3s\tremaining: 8.4s\n",
            "211:\tlearn: 0.2071365\ttest: 0.2394023\tbest: 0.2394023 (211)\ttotal: 12.4s\tremaining: 8.35s\n",
            "212:\tlearn: 0.2068060\ttest: 0.2393742\tbest: 0.2393742 (212)\ttotal: 12.4s\tremaining: 8.29s\n",
            "213:\tlearn: 0.2066948\ttest: 0.2394040\tbest: 0.2393742 (212)\ttotal: 12.5s\tremaining: 8.23s\n",
            "214:\tlearn: 0.2064771\ttest: 0.2393846\tbest: 0.2393742 (212)\ttotal: 12.6s\tremaining: 8.18s\n",
            "215:\tlearn: 0.2062796\ttest: 0.2394492\tbest: 0.2393742 (212)\ttotal: 12.6s\tremaining: 8.13s\n",
            "216:\tlearn: 0.2060841\ttest: 0.2393995\tbest: 0.2393742 (212)\ttotal: 12.7s\tremaining: 8.07s\n",
            "217:\tlearn: 0.2059821\ttest: 0.2393734\tbest: 0.2393734 (217)\ttotal: 12.7s\tremaining: 8.01s\n",
            "218:\tlearn: 0.2057135\ttest: 0.2393132\tbest: 0.2393132 (218)\ttotal: 12.8s\tremaining: 7.95s\n",
            "219:\tlearn: 0.2054497\ttest: 0.2393422\tbest: 0.2393132 (218)\ttotal: 12.9s\tremaining: 7.89s\n",
            "220:\tlearn: 0.2051853\ttest: 0.2391329\tbest: 0.2391329 (220)\ttotal: 12.9s\tremaining: 7.83s\n",
            "221:\tlearn: 0.2050508\ttest: 0.2391459\tbest: 0.2391329 (220)\ttotal: 13s\tremaining: 7.77s\n",
            "222:\tlearn: 0.2048198\ttest: 0.2391965\tbest: 0.2391329 (220)\ttotal: 13s\tremaining: 7.71s\n",
            "223:\tlearn: 0.2047458\ttest: 0.2391585\tbest: 0.2391329 (220)\ttotal: 13.1s\tremaining: 7.65s\n",
            "224:\tlearn: 0.2042934\ttest: 0.2390866\tbest: 0.2390866 (224)\ttotal: 13.1s\tremaining: 7.59s\n",
            "225:\tlearn: 0.2042735\ttest: 0.2390923\tbest: 0.2390866 (224)\ttotal: 13.2s\tremaining: 7.53s\n",
            "226:\tlearn: 0.2040904\ttest: 0.2390997\tbest: 0.2390866 (224)\ttotal: 13.3s\tremaining: 7.47s\n",
            "227:\tlearn: 0.2039696\ttest: 0.2390219\tbest: 0.2390219 (227)\ttotal: 13.3s\tremaining: 7.41s\n",
            "228:\tlearn: 0.2038055\ttest: 0.2389531\tbest: 0.2389531 (228)\ttotal: 13.4s\tremaining: 7.36s\n",
            "229:\tlearn: 0.2033265\ttest: 0.2385872\tbest: 0.2385872 (229)\ttotal: 13.4s\tremaining: 7.3s\n",
            "230:\tlearn: 0.2031457\ttest: 0.2385834\tbest: 0.2385834 (230)\ttotal: 13.5s\tremaining: 7.24s\n",
            "231:\tlearn: 0.2028996\ttest: 0.2385916\tbest: 0.2385834 (230)\ttotal: 13.5s\tremaining: 7.18s\n",
            "232:\tlearn: 0.2027258\ttest: 0.2385523\tbest: 0.2385523 (232)\ttotal: 13.6s\tremaining: 7.12s\n",
            "233:\tlearn: 0.2024734\ttest: 0.2386288\tbest: 0.2385523 (232)\ttotal: 13.7s\tremaining: 7.07s\n",
            "234:\tlearn: 0.2023449\ttest: 0.2386317\tbest: 0.2385523 (232)\ttotal: 13.7s\tremaining: 7.01s\n",
            "235:\tlearn: 0.2022165\ttest: 0.2385788\tbest: 0.2385523 (232)\ttotal: 13.8s\tremaining: 6.96s\n",
            "236:\tlearn: 0.2019577\ttest: 0.2386148\tbest: 0.2385523 (232)\ttotal: 13.9s\tremaining: 6.9s\n",
            "237:\tlearn: 0.2018883\ttest: 0.2386211\tbest: 0.2385523 (232)\ttotal: 13.9s\tremaining: 6.83s\n",
            "238:\tlearn: 0.2015518\ttest: 0.2385113\tbest: 0.2385113 (238)\ttotal: 14s\tremaining: 6.78s\n",
            "239:\tlearn: 0.2014593\ttest: 0.2385388\tbest: 0.2385113 (238)\ttotal: 14s\tremaining: 6.72s\n",
            "240:\tlearn: 0.2011545\ttest: 0.2385015\tbest: 0.2385015 (240)\ttotal: 14.1s\tremaining: 6.66s\n",
            "241:\tlearn: 0.2009266\ttest: 0.2385078\tbest: 0.2385015 (240)\ttotal: 14.1s\tremaining: 6.6s\n",
            "242:\tlearn: 0.2006248\ttest: 0.2384356\tbest: 0.2384356 (242)\ttotal: 14.2s\tremaining: 6.55s\n",
            "243:\tlearn: 0.2004380\ttest: 0.2383112\tbest: 0.2383112 (243)\ttotal: 14.3s\tremaining: 6.49s\n",
            "244:\tlearn: 0.2002290\ttest: 0.2383686\tbest: 0.2383112 (243)\ttotal: 14.3s\tremaining: 6.43s\n",
            "245:\tlearn: 0.2001401\ttest: 0.2383518\tbest: 0.2383112 (243)\ttotal: 14.4s\tremaining: 6.37s\n",
            "246:\tlearn: 0.1998179\ttest: 0.2384251\tbest: 0.2383112 (243)\ttotal: 14.4s\tremaining: 6.31s\n",
            "247:\tlearn: 0.1997320\ttest: 0.2383973\tbest: 0.2383112 (243)\ttotal: 14.5s\tremaining: 6.25s\n",
            "248:\tlearn: 0.1995711\ttest: 0.2383704\tbest: 0.2383112 (243)\ttotal: 14.6s\tremaining: 6.2s\n",
            "249:\tlearn: 0.1993440\ttest: 0.2383614\tbest: 0.2383112 (243)\ttotal: 14.6s\tremaining: 6.15s\n",
            "250:\tlearn: 0.1991906\ttest: 0.2383370\tbest: 0.2383112 (243)\ttotal: 14.7s\tremaining: 6.09s\n",
            "251:\tlearn: 0.1987429\ttest: 0.2382310\tbest: 0.2382310 (251)\ttotal: 14.8s\tremaining: 6.03s\n",
            "252:\tlearn: 0.1985626\ttest: 0.2382828\tbest: 0.2382310 (251)\ttotal: 14.8s\tremaining: 5.97s\n",
            "253:\tlearn: 0.1984629\ttest: 0.2382013\tbest: 0.2382013 (253)\ttotal: 14.9s\tremaining: 5.92s\n",
            "254:\tlearn: 0.1982658\ttest: 0.2381231\tbest: 0.2381231 (254)\ttotal: 14.9s\tremaining: 5.86s\n",
            "255:\tlearn: 0.1981045\ttest: 0.2381349\tbest: 0.2381231 (254)\ttotal: 15s\tremaining: 5.79s\n",
            "256:\tlearn: 0.1978496\ttest: 0.2379420\tbest: 0.2379420 (256)\ttotal: 15.1s\tremaining: 5.74s\n",
            "257:\tlearn: 0.1977087\ttest: 0.2380061\tbest: 0.2379420 (256)\ttotal: 15.1s\tremaining: 5.68s\n",
            "258:\tlearn: 0.1974842\ttest: 0.2379804\tbest: 0.2379420 (256)\ttotal: 15.2s\tremaining: 5.63s\n",
            "259:\tlearn: 0.1973366\ttest: 0.2381696\tbest: 0.2379420 (256)\ttotal: 15.2s\tremaining: 5.57s\n",
            "260:\tlearn: 0.1971511\ttest: 0.2380889\tbest: 0.2379420 (256)\ttotal: 15.3s\tremaining: 5.51s\n",
            "261:\tlearn: 0.1969307\ttest: 0.2381294\tbest: 0.2379420 (256)\ttotal: 15.4s\tremaining: 5.45s\n",
            "262:\tlearn: 0.1965353\ttest: 0.2380555\tbest: 0.2379420 (256)\ttotal: 15.4s\tremaining: 5.39s\n",
            "263:\tlearn: 0.1963151\ttest: 0.2380605\tbest: 0.2379420 (256)\ttotal: 15.5s\tremaining: 5.34s\n",
            "264:\tlearn: 0.1961904\ttest: 0.2379906\tbest: 0.2379420 (256)\ttotal: 15.5s\tremaining: 5.27s\n",
            "265:\tlearn: 0.1957325\ttest: 0.2381648\tbest: 0.2379420 (256)\ttotal: 15.6s\tremaining: 5.21s\n",
            "266:\tlearn: 0.1956640\ttest: 0.2381258\tbest: 0.2379420 (256)\ttotal: 15.6s\tremaining: 5.16s\n",
            "267:\tlearn: 0.1955575\ttest: 0.2380959\tbest: 0.2379420 (256)\ttotal: 15.7s\tremaining: 5.1s\n",
            "268:\tlearn: 0.1954505\ttest: 0.2381582\tbest: 0.2379420 (256)\ttotal: 15.8s\tremaining: 5.04s\n",
            "269:\tlearn: 0.1951859\ttest: 0.2382094\tbest: 0.2379420 (256)\ttotal: 15.8s\tremaining: 4.98s\n",
            "270:\tlearn: 0.1950747\ttest: 0.2381691\tbest: 0.2379420 (256)\ttotal: 15.9s\tremaining: 4.92s\n",
            "271:\tlearn: 0.1950013\ttest: 0.2381171\tbest: 0.2379420 (256)\ttotal: 15.9s\tremaining: 4.87s\n",
            "272:\tlearn: 0.1947582\ttest: 0.2381910\tbest: 0.2379420 (256)\ttotal: 16s\tremaining: 4.81s\n",
            "273:\tlearn: 0.1944214\ttest: 0.2383097\tbest: 0.2379420 (256)\ttotal: 16.1s\tremaining: 4.75s\n",
            "274:\tlearn: 0.1942489\ttest: 0.2382684\tbest: 0.2379420 (256)\ttotal: 16.1s\tremaining: 4.69s\n",
            "275:\tlearn: 0.1941674\ttest: 0.2382753\tbest: 0.2379420 (256)\ttotal: 16.2s\tremaining: 4.63s\n",
            "276:\tlearn: 0.1941065\ttest: 0.2382378\tbest: 0.2379420 (256)\ttotal: 16.3s\tremaining: 4.58s\n",
            "277:\tlearn: 0.1938886\ttest: 0.2380561\tbest: 0.2379420 (256)\ttotal: 16.3s\tremaining: 4.52s\n",
            "278:\tlearn: 0.1936400\ttest: 0.2381379\tbest: 0.2379420 (256)\ttotal: 16.4s\tremaining: 4.46s\n",
            "279:\tlearn: 0.1934301\ttest: 0.2382472\tbest: 0.2379420 (256)\ttotal: 16.4s\tremaining: 4.4s\n",
            "280:\tlearn: 0.1933236\ttest: 0.2381982\tbest: 0.2379420 (256)\ttotal: 16.5s\tremaining: 4.34s\n",
            "281:\tlearn: 0.1931198\ttest: 0.2381883\tbest: 0.2379420 (256)\ttotal: 16.5s\tremaining: 4.28s\n",
            "282:\tlearn: 0.1929267\ttest: 0.2382142\tbest: 0.2379420 (256)\ttotal: 16.6s\tremaining: 4.22s\n",
            "283:\tlearn: 0.1927977\ttest: 0.2382508\tbest: 0.2379420 (256)\ttotal: 16.7s\tremaining: 4.17s\n",
            "284:\tlearn: 0.1925076\ttest: 0.2381722\tbest: 0.2379420 (256)\ttotal: 16.7s\tremaining: 4.11s\n",
            "285:\tlearn: 0.1922407\ttest: 0.2381990\tbest: 0.2379420 (256)\ttotal: 16.8s\tremaining: 4.05s\n",
            "286:\tlearn: 0.1920067\ttest: 0.2381549\tbest: 0.2379420 (256)\ttotal: 16.8s\tremaining: 3.99s\n",
            "287:\tlearn: 0.1918338\ttest: 0.2382000\tbest: 0.2379420 (256)\ttotal: 16.9s\tremaining: 3.93s\n",
            "288:\tlearn: 0.1917501\ttest: 0.2382411\tbest: 0.2379420 (256)\ttotal: 17s\tremaining: 3.88s\n",
            "289:\tlearn: 0.1916437\ttest: 0.2382243\tbest: 0.2379420 (256)\ttotal: 17s\tremaining: 3.82s\n",
            "290:\tlearn: 0.1914168\ttest: 0.2381219\tbest: 0.2379420 (256)\ttotal: 17.1s\tremaining: 3.76s\n",
            "291:\tlearn: 0.1912889\ttest: 0.2381522\tbest: 0.2379420 (256)\ttotal: 17.1s\tremaining: 3.7s\n",
            "292:\tlearn: 0.1909851\ttest: 0.2382192\tbest: 0.2379420 (256)\ttotal: 17.2s\tremaining: 3.64s\n",
            "293:\tlearn: 0.1906783\ttest: 0.2380143\tbest: 0.2379420 (256)\ttotal: 17.3s\tremaining: 3.58s\n",
            "294:\tlearn: 0.1906111\ttest: 0.2379584\tbest: 0.2379420 (256)\ttotal: 17.3s\tremaining: 3.52s\n",
            "295:\tlearn: 0.1904289\ttest: 0.2378981\tbest: 0.2378981 (295)\ttotal: 17.4s\tremaining: 3.46s\n",
            "296:\tlearn: 0.1903991\ttest: 0.2378614\tbest: 0.2378614 (296)\ttotal: 17.4s\tremaining: 3.4s\n",
            "297:\tlearn: 0.1902175\ttest: 0.2380430\tbest: 0.2378614 (296)\ttotal: 17.5s\tremaining: 3.34s\n",
            "298:\tlearn: 0.1900229\ttest: 0.2381587\tbest: 0.2378614 (296)\ttotal: 17.5s\tremaining: 3.29s\n",
            "299:\tlearn: 0.1899455\ttest: 0.2380900\tbest: 0.2378614 (296)\ttotal: 17.6s\tremaining: 3.23s\n",
            "300:\tlearn: 0.1897997\ttest: 0.2381733\tbest: 0.2378614 (296)\ttotal: 17.7s\tremaining: 3.17s\n",
            "301:\tlearn: 0.1895136\ttest: 0.2382235\tbest: 0.2378614 (296)\ttotal: 17.7s\tremaining: 3.11s\n",
            "302:\tlearn: 0.1891945\ttest: 0.2380012\tbest: 0.2378614 (296)\ttotal: 17.8s\tremaining: 3.05s\n",
            "303:\tlearn: 0.1890179\ttest: 0.2380567\tbest: 0.2378614 (296)\ttotal: 17.8s\tremaining: 2.99s\n",
            "304:\tlearn: 0.1888606\ttest: 0.2381500\tbest: 0.2378614 (296)\ttotal: 17.9s\tremaining: 2.94s\n",
            "305:\tlearn: 0.1887286\ttest: 0.2381645\tbest: 0.2378614 (296)\ttotal: 18s\tremaining: 2.88s\n",
            "306:\tlearn: 0.1885269\ttest: 0.2380838\tbest: 0.2378614 (296)\ttotal: 18s\tremaining: 2.82s\n",
            "307:\tlearn: 0.1882563\ttest: 0.2380330\tbest: 0.2378614 (296)\ttotal: 18.1s\tremaining: 2.76s\n",
            "308:\tlearn: 0.1881449\ttest: 0.2380858\tbest: 0.2378614 (296)\ttotal: 18.1s\tremaining: 2.7s\n",
            "309:\tlearn: 0.1880002\ttest: 0.2380624\tbest: 0.2378614 (296)\ttotal: 18.2s\tremaining: 2.64s\n",
            "310:\tlearn: 0.1877323\ttest: 0.2381570\tbest: 0.2378614 (296)\ttotal: 18.3s\tremaining: 2.58s\n",
            "311:\tlearn: 0.1875402\ttest: 0.2382295\tbest: 0.2378614 (296)\ttotal: 18.3s\tremaining: 2.52s\n",
            "312:\tlearn: 0.1873771\ttest: 0.2383252\tbest: 0.2378614 (296)\ttotal: 18.4s\tremaining: 2.47s\n",
            "313:\tlearn: 0.1872373\ttest: 0.2383935\tbest: 0.2378614 (296)\ttotal: 18.4s\tremaining: 2.41s\n",
            "314:\tlearn: 0.1868418\ttest: 0.2384344\tbest: 0.2378614 (296)\ttotal: 18.5s\tremaining: 2.35s\n",
            "315:\tlearn: 0.1866547\ttest: 0.2383917\tbest: 0.2378614 (296)\ttotal: 18.6s\tremaining: 2.29s\n",
            "316:\tlearn: 0.1864510\ttest: 0.2383939\tbest: 0.2378614 (296)\ttotal: 18.6s\tremaining: 2.23s\n",
            "317:\tlearn: 0.1864326\ttest: 0.2383921\tbest: 0.2378614 (296)\ttotal: 18.7s\tremaining: 2.17s\n",
            "318:\tlearn: 0.1861629\ttest: 0.2384263\tbest: 0.2378614 (296)\ttotal: 18.7s\tremaining: 2.11s\n",
            "319:\tlearn: 0.1859332\ttest: 0.2383598\tbest: 0.2378614 (296)\ttotal: 18.8s\tremaining: 2.05s\n",
            "320:\tlearn: 0.1858423\ttest: 0.2384780\tbest: 0.2378614 (296)\ttotal: 18.8s\tremaining: 2s\n",
            "321:\tlearn: 0.1855337\ttest: 0.2384380\tbest: 0.2378614 (296)\ttotal: 18.9s\tremaining: 1.94s\n",
            "322:\tlearn: 0.1854064\ttest: 0.2383997\tbest: 0.2378614 (296)\ttotal: 19s\tremaining: 1.88s\n",
            "323:\tlearn: 0.1852500\ttest: 0.2383519\tbest: 0.2378614 (296)\ttotal: 19s\tremaining: 1.82s\n",
            "324:\tlearn: 0.1850735\ttest: 0.2381924\tbest: 0.2378614 (296)\ttotal: 19.1s\tremaining: 1.76s\n",
            "325:\tlearn: 0.1848468\ttest: 0.2382568\tbest: 0.2378614 (296)\ttotal: 19.1s\tremaining: 1.7s\n",
            "326:\tlearn: 0.1846856\ttest: 0.2383153\tbest: 0.2378614 (296)\ttotal: 19.2s\tremaining: 1.64s\n",
            "327:\tlearn: 0.1845541\ttest: 0.2383242\tbest: 0.2378614 (296)\ttotal: 19.2s\tremaining: 1.58s\n",
            "328:\tlearn: 0.1844126\ttest: 0.2381838\tbest: 0.2378614 (296)\ttotal: 19.3s\tremaining: 1.52s\n",
            "329:\tlearn: 0.1841158\ttest: 0.2381623\tbest: 0.2378614 (296)\ttotal: 19.4s\tremaining: 1.47s\n",
            "330:\tlearn: 0.1838931\ttest: 0.2381162\tbest: 0.2378614 (296)\ttotal: 19.4s\tremaining: 1.41s\n",
            "331:\tlearn: 0.1837986\ttest: 0.2381068\tbest: 0.2378614 (296)\ttotal: 19.5s\tremaining: 1.35s\n",
            "332:\tlearn: 0.1837295\ttest: 0.2381177\tbest: 0.2378614 (296)\ttotal: 19.5s\tremaining: 1.29s\n",
            "333:\tlearn: 0.1835026\ttest: 0.2380783\tbest: 0.2378614 (296)\ttotal: 19.6s\tremaining: 1.23s\n",
            "334:\tlearn: 0.1833596\ttest: 0.2381444\tbest: 0.2378614 (296)\ttotal: 19.6s\tremaining: 1.17s\n",
            "335:\tlearn: 0.1831972\ttest: 0.2379969\tbest: 0.2378614 (296)\ttotal: 19.7s\tremaining: 1.11s\n",
            "336:\tlearn: 0.1829819\ttest: 0.2379689\tbest: 0.2378614 (296)\ttotal: 19.8s\tremaining: 1.06s\n",
            "337:\tlearn: 0.1828560\ttest: 0.2380029\tbest: 0.2378614 (296)\ttotal: 19.8s\tremaining: 997ms\n",
            "338:\tlearn: 0.1826145\ttest: 0.2379328\tbest: 0.2378614 (296)\ttotal: 19.9s\tremaining: 939ms\n",
            "339:\tlearn: 0.1822619\ttest: 0.2377305\tbest: 0.2377305 (339)\ttotal: 20s\tremaining: 880ms\n",
            "340:\tlearn: 0.1820138\ttest: 0.2378477\tbest: 0.2377305 (339)\ttotal: 20s\tremaining: 822ms\n",
            "341:\tlearn: 0.1818066\ttest: 0.2378049\tbest: 0.2377305 (339)\ttotal: 20.1s\tremaining: 764ms\n",
            "342:\tlearn: 0.1817118\ttest: 0.2377485\tbest: 0.2377305 (339)\ttotal: 20.1s\tremaining: 705ms\n",
            "343:\tlearn: 0.1814202\ttest: 0.2378160\tbest: 0.2377305 (339)\ttotal: 20.2s\tremaining: 646ms\n",
            "344:\tlearn: 0.1812214\ttest: 0.2378173\tbest: 0.2377305 (339)\ttotal: 20.3s\tremaining: 588ms\n",
            "345:\tlearn: 0.1811446\ttest: 0.2378387\tbest: 0.2377305 (339)\ttotal: 20.3s\tremaining: 529ms\n",
            "346:\tlearn: 0.1809741\ttest: 0.2378684\tbest: 0.2377305 (339)\ttotal: 20.4s\tremaining: 470ms\n",
            "347:\tlearn: 0.1808051\ttest: 0.2378568\tbest: 0.2377305 (339)\ttotal: 20.4s\tremaining: 411ms\n",
            "348:\tlearn: 0.1806282\ttest: 0.2378646\tbest: 0.2377305 (339)\ttotal: 20.5s\tremaining: 352ms\n",
            "349:\tlearn: 0.1804679\ttest: 0.2377867\tbest: 0.2377305 (339)\ttotal: 20.6s\tremaining: 294ms\n",
            "350:\tlearn: 0.1802422\ttest: 0.2378159\tbest: 0.2377305 (339)\ttotal: 20.6s\tremaining: 235ms\n",
            "351:\tlearn: 0.1800953\ttest: 0.2377540\tbest: 0.2377305 (339)\ttotal: 20.7s\tremaining: 176ms\n",
            "352:\tlearn: 0.1799610\ttest: 0.2377595\tbest: 0.2377305 (339)\ttotal: 20.7s\tremaining: 117ms\n",
            "353:\tlearn: 0.1797879\ttest: 0.2377611\tbest: 0.2377305 (339)\ttotal: 20.8s\tremaining: 58.7ms\n",
            "354:\tlearn: 0.1796417\ttest: 0.2376982\tbest: 0.2376982 (354)\ttotal: 20.8s\tremaining: 0us\n",
            "\n",
            "bestTest = 0.2376981704\n",
            "bestIteration = 354\n",
            "\n"
          ],
          "name": "stdout"
        },
        {
          "output_type": "execute_result",
          "data": {
            "text/plain": [
              "<catboost.core.CatBoostClassifier at 0x7f198591c518>"
            ]
          },
          "metadata": {
            "tags": []
          },
          "execution_count": 181
        }
      ]
    },
    {
      "cell_type": "code",
      "metadata": {
        "trusted": true,
        "id": "YKNNiGeGakDz",
        "outputId": "c4720557-73d3-4dbf-e653-8709698b0364",
        "colab": {
          "base_uri": "https://localhost:8080/",
          "height": 34
        }
      },
      "source": [
        "from sklearn.metrics import f1_score, confusion_matrix\n",
        "y1_pred = model1.predict(x1_test)\n",
        "score = f1_score(y1_test, y1_pred, average='weighted') * 100\n",
        "score"
      ],
      "execution_count": 182,
      "outputs": [
        {
          "output_type": "execute_result",
          "data": {
            "text/plain": [
              "90.83956362722982"
            ]
          },
          "metadata": {
            "tags": []
          },
          "execution_count": 182
        }
      ]
    },
    {
      "cell_type": "markdown",
      "metadata": {
        "id": "VN-PJPzQVrnp"
      },
      "source": [
        "# ***Without modified dates columns***\n",
        "\n",
        "Randomly get the learning rates, by setting diff iterations and fix the learning rate and find the best iterations for that learning rate.\n",
        "\n",
        "1. Learning rate set to 0.244274, iterations 136, f1_score = 90.09\n",
        "  1. iterations = 109, score = 90.09\n",
        "  2. iterations = 101, score = 90.11\n",
        "  3. iterations = 100, score = 90.06\n",
        "2. Learning rate set to 0.24566, iterations 134, f1_score = 90.17\n",
        "  1. iterations = 175 , score = 90.06\n",
        "  2. iterations = 139, score = 90.17\n",
        "  3. iterations = 131, score = 90.1754\n",
        "3. Learning rate set to 0.24852, iterations 130, f1_score 90.03\n",
        "  1. iterations = 1000, score = 90.24\n",
        "  2. iterations = 110, score = 90.14\n",
        "  3. iterations = 100, score = 90.1718\n",
        "4. Learning rate set to 0.113996, iterations = 1000, f1_score = 90.21\n",
        "  1. iterations = 380, score = 90.215\n",
        "  2. iterations = 213, score = 90.2244\n",
        "  3. iterations = 212, score = 90.2260\n",
        "5. Learning rate set to 0.210812, iterations = 200, f1_score = 90.17\n",
        "\n",
        "6. Learning rate set t0 0.21947, iterations = 1000, f1_score = 90.222\n",
        "  1. iterations = 292, score = 90.2501\n",
        "  2. iterations = 282, score = 90.27\n",
        "  3. iterations = 280, score = 90.3572"
      ]
    },
    {
      "cell_type": "code",
      "metadata": {
        "id": "LXD0qYJSeE-2"
      },
      "source": [
        "from sklearn.model_selection import GridSearchCV\n",
        "grid = {'learning_rate': [0.113996, 0.24852, 0.24566, 0.244274 ] ,\n",
        "        'iterations' : [131, 212, 101]\n",
        "}\n",
        "grid_search = GridSearchCV(estimator = model1,\n",
        "                           param_grid = grid,\n",
        "                           scoring = 'accuracy',\n",
        "                           cv = 3\n",
        "                          )\n",
        "grid_search = grid_search.fit(x1_train, y1_train, eval_set=(x1_test, y1_test))\n",
        "best_accuracy = grid_search.best_score_\n",
        "best_parameters = grid_search.best_params_\n",
        "print(\"Best Accuracy: {:.2f} %\".format(best_accuracy*100))\n",
        "print(\"Best Parameters:\", best_parameters)"
      ],
      "execution_count": null,
      "outputs": []
    },
    {
      "cell_type": "code",
      "metadata": {
        "id": "Kv5gCTbtmxis"
      },
      "source": [
        ""
      ],
      "execution_count": null,
      "outputs": []
    },
    {
      "cell_type": "markdown",
      "metadata": {
        "id": "ezVmEMOiakD8"
      },
      "source": [
        "# build 2nd model i.e predict breed_category"
      ]
    },
    {
      "cell_type": "markdown",
      "metadata": {
        "id": "dqJBwOHqakD9"
      },
      "source": [
        "We will use the output of **MODEL 1** as an input feature of **MODEL 2** .Trust me, it will increase your score."
      ]
    },
    {
      "cell_type": "markdown",
      "metadata": {
        "id": "3eX4VVeWakD9"
      },
      "source": [
        "build new dataset for model 2"
      ]
    },
    {
      "cell_type": "code",
      "metadata": {
        "trusted": true,
        "id": "qGtX384eakD9"
      },
      "source": [
        "#new_feat is new feature i.e the predicted pet_category of model 1 for train data\n",
        "new_feat=model1.predict(x)\n",
        "#output1 is new first output i.e the predicted pet_category of model 1 for test data\n",
        "output1=model1.predict(test)\n",
        "#vld1 is validation 1 i.e we'll check score with the predicted result of validation data of model 1\n",
        "vld1=model1.predict(x1_test)"
      ],
      "execution_count": 184,
      "outputs": []
    },
    {
      "cell_type": "code",
      "metadata": {
        "trusted": true,
        "id": "t_auHxihakEA"
      },
      "source": [
        "names = comb_data.columns\n",
        "x2 = pd.DataFrame(x, columns=names)\n",
        "test2 = pd.DataFrame(test, columns=names)"
      ],
      "execution_count": 185,
      "outputs": []
    },
    {
      "cell_type": "code",
      "metadata": {
        "trusted": true,
        "id": "I-0evOWbakEG"
      },
      "source": [
        "#the predicted pet_category of model 1 for train data is used as a input variable or feature of the train data of model 2\n",
        "x2['output1']=new_feat\n",
        "#the predicted pet_category of model 1 for test data is used as a input variable or feature of the test data of model 2\n",
        "test2['output1']=output1"
      ],
      "execution_count": 186,
      "outputs": []
    },
    {
      "cell_type": "code",
      "metadata": {
        "id": "kocmswCEn0bw",
        "outputId": "8ae61b6f-8e45-40fd-e358-6a75ea766868",
        "colab": {
          "base_uri": "https://localhost:8080/",
          "height": 340
        }
      },
      "source": [
        "x2.info() #object type indices = 1,9,10"
      ],
      "execution_count": 187,
      "outputs": [
        {
          "output_type": "stream",
          "text": [
            "<class 'pandas.core.frame.DataFrame'>\n",
            "RangeIndex: 18834 entries, 0 to 18833\n",
            "Data columns (total 12 columns):\n",
            " #   Column                 Non-Null Count  Dtype  \n",
            "---  ------                 --------------  -----  \n",
            " 0   condition              18834 non-null  float64\n",
            " 1   color_type             18834 non-null  object \n",
            " 2   length(m)              18834 non-null  float64\n",
            " 3   height(cm)             18834 non-null  float64\n",
            " 4   X1                     18834 non-null  int64  \n",
            " 5   X2                     18834 non-null  int64  \n",
            " 6   modified_listing_date  18834 non-null  float64\n",
            " 7   modified_issue_date    18834 non-null  float64\n",
            " 8   took_time              18834 non-null  float64\n",
            " 9   1stnum                 18834 non-null  object \n",
            " 10  1st2num                18834 non-null  object \n",
            " 11  output1                18834 non-null  int64  \n",
            "dtypes: float64(6), int64(3), object(3)\n",
            "memory usage: 1.7+ MB\n"
          ],
          "name": "stdout"
        }
      ]
    },
    {
      "cell_type": "markdown",
      "metadata": {
        "id": "0haUrM7DakEP"
      },
      "source": [
        "**split data for model 2**"
      ]
    },
    {
      "cell_type": "code",
      "metadata": {
        "trusted": true,
        "id": "ChmdJ9yrakEQ"
      },
      "source": [
        "x2_train,x2_test,y2_train,y2_test=train_test_split(x2,y1,test_size=0.2,random_state=0)"
      ],
      "execution_count": 188,
      "outputs": []
    },
    {
      "cell_type": "markdown",
      "metadata": {
        "id": "J0NmCKkYakEX"
      },
      "source": [
        "**Build model 2 and train the model with new data**"
      ]
    },
    {
      "cell_type": "markdown",
      "metadata": {
        "id": "u-Xfj9owtG5s"
      },
      "source": [
        "1. Learning rate set to 0.148569743, iterations = 154, score = 91.17\n",
        "2. Learning rate set to 0.148569743, iterations = 200, score = 91.37"
      ]
    },
    {
      "cell_type": "code",
      "metadata": {
        "trusted": true,
        "id": "Gu_5bvHkakEY",
        "outputId": "e6097fa8-66c0-4138-e538-882307b56e7a",
        "colab": {
          "base_uri": "https://localhost:8080/",
          "height": 1000
        }
      },
      "source": [
        "model2 = CatBoostClassifier(iterations=150, cat_features=[1,9,10,],loss_function='MultiClass') #learning_rate=0.05,iterations =176,learning_rate = 0.106326,\n",
        "model2.fit(x2_train, y2_train, eval_set = (x2_test, y2_test))"
      ],
      "execution_count": 189,
      "outputs": [
        {
          "output_type": "stream",
          "text": [
            "Learning rate set to 0.2353\n",
            "0:\tlearn: 0.7609699\ttest: 0.7561024\tbest: 0.7561024 (0)\ttotal: 29.9ms\tremaining: 4.45s\n",
            "1:\tlearn: 0.5858817\ttest: 0.5790348\tbest: 0.5790348 (1)\ttotal: 54.6ms\tremaining: 4.04s\n",
            "2:\tlearn: 0.4740964\ttest: 0.4659343\tbest: 0.4659343 (2)\ttotal: 81.2ms\tremaining: 3.98s\n",
            "3:\tlearn: 0.3959788\ttest: 0.3871215\tbest: 0.3871215 (3)\ttotal: 111ms\tremaining: 4.04s\n",
            "4:\tlearn: 0.3402915\ttest: 0.3310740\tbest: 0.3310740 (4)\ttotal: 136ms\tremaining: 3.96s\n",
            "5:\tlearn: 0.2984748\ttest: 0.2888590\tbest: 0.2888590 (5)\ttotal: 161ms\tremaining: 3.87s\n",
            "6:\tlearn: 0.2669225\ttest: 0.2570997\tbest: 0.2570997 (6)\ttotal: 185ms\tremaining: 3.79s\n",
            "7:\tlearn: 0.2430693\ttest: 0.2330696\tbest: 0.2330696 (7)\ttotal: 213ms\tremaining: 3.78s\n",
            "8:\tlearn: 0.2247735\ttest: 0.2145805\tbest: 0.2145805 (8)\ttotal: 245ms\tremaining: 3.85s\n",
            "9:\tlearn: 0.2095047\ttest: 0.2000898\tbest: 0.2000898 (9)\ttotal: 270ms\tremaining: 3.79s\n",
            "10:\tlearn: 0.1960777\ttest: 0.1870619\tbest: 0.1870619 (10)\ttotal: 293ms\tremaining: 3.7s\n",
            "11:\tlearn: 0.1873391\ttest: 0.1786955\tbest: 0.1786955 (11)\ttotal: 320ms\tremaining: 3.69s\n",
            "12:\tlearn: 0.1805079\ttest: 0.1720094\tbest: 0.1720094 (12)\ttotal: 344ms\tremaining: 3.62s\n",
            "13:\tlearn: 0.1756466\ttest: 0.1674251\tbest: 0.1674251 (13)\ttotal: 368ms\tremaining: 3.58s\n",
            "14:\tlearn: 0.1722709\ttest: 0.1643732\tbest: 0.1643732 (14)\ttotal: 391ms\tremaining: 3.52s\n",
            "15:\tlearn: 0.1700113\ttest: 0.1623238\tbest: 0.1623238 (15)\ttotal: 417ms\tremaining: 3.49s\n",
            "16:\tlearn: 0.1666412\ttest: 0.1590108\tbest: 0.1590108 (16)\ttotal: 443ms\tremaining: 3.47s\n",
            "17:\tlearn: 0.1635684\ttest: 0.1561018\tbest: 0.1561018 (17)\ttotal: 467ms\tremaining: 3.43s\n",
            "18:\tlearn: 0.1624634\ttest: 0.1554929\tbest: 0.1554929 (18)\ttotal: 494ms\tremaining: 3.41s\n",
            "19:\tlearn: 0.1613674\ttest: 0.1545645\tbest: 0.1545645 (19)\ttotal: 521ms\tremaining: 3.38s\n",
            "20:\tlearn: 0.1604292\ttest: 0.1537214\tbest: 0.1537214 (20)\ttotal: 543ms\tremaining: 3.33s\n",
            "21:\tlearn: 0.1590365\ttest: 0.1523060\tbest: 0.1523060 (21)\ttotal: 567ms\tremaining: 3.3s\n",
            "22:\tlearn: 0.1584480\ttest: 0.1519429\tbest: 0.1519429 (22)\ttotal: 592ms\tremaining: 3.27s\n",
            "23:\tlearn: 0.1578327\ttest: 0.1517158\tbest: 0.1517158 (23)\ttotal: 616ms\tremaining: 3.24s\n",
            "24:\tlearn: 0.1573222\ttest: 0.1513413\tbest: 0.1513413 (24)\ttotal: 641ms\tremaining: 3.21s\n",
            "25:\tlearn: 0.1569805\ttest: 0.1511436\tbest: 0.1511436 (25)\ttotal: 671ms\tremaining: 3.2s\n",
            "26:\tlearn: 0.1567137\ttest: 0.1510780\tbest: 0.1510780 (26)\ttotal: 696ms\tremaining: 3.17s\n",
            "27:\tlearn: 0.1562763\ttest: 0.1506990\tbest: 0.1506990 (27)\ttotal: 723ms\tremaining: 3.15s\n",
            "28:\tlearn: 0.1545802\ttest: 0.1490104\tbest: 0.1490104 (28)\ttotal: 757ms\tremaining: 3.16s\n",
            "29:\tlearn: 0.1542767\ttest: 0.1489397\tbest: 0.1489397 (29)\ttotal: 783ms\tremaining: 3.13s\n",
            "30:\tlearn: 0.1533954\ttest: 0.1482597\tbest: 0.1482597 (30)\ttotal: 807ms\tremaining: 3.1s\n",
            "31:\tlearn: 0.1532396\ttest: 0.1481595\tbest: 0.1481595 (31)\ttotal: 834ms\tremaining: 3.07s\n",
            "32:\tlearn: 0.1528406\ttest: 0.1480306\tbest: 0.1480306 (32)\ttotal: 859ms\tremaining: 3.04s\n",
            "33:\tlearn: 0.1520731\ttest: 0.1473289\tbest: 0.1473289 (33)\ttotal: 881ms\tremaining: 3.01s\n",
            "34:\tlearn: 0.1509647\ttest: 0.1462359\tbest: 0.1462359 (34)\ttotal: 905ms\tremaining: 2.97s\n",
            "35:\tlearn: 0.1507902\ttest: 0.1461662\tbest: 0.1461662 (35)\ttotal: 929ms\tremaining: 2.94s\n",
            "36:\tlearn: 0.1505595\ttest: 0.1461303\tbest: 0.1461303 (36)\ttotal: 952ms\tremaining: 2.91s\n",
            "37:\tlearn: 0.1503292\ttest: 0.1461868\tbest: 0.1461303 (36)\ttotal: 978ms\tremaining: 2.88s\n",
            "38:\tlearn: 0.1501645\ttest: 0.1461125\tbest: 0.1461125 (38)\ttotal: 1s\tremaining: 2.86s\n",
            "39:\tlearn: 0.1495735\ttest: 0.1456904\tbest: 0.1456904 (39)\ttotal: 1.03s\tremaining: 2.85s\n",
            "40:\tlearn: 0.1493542\ttest: 0.1455997\tbest: 0.1455997 (40)\ttotal: 1.06s\tremaining: 2.83s\n",
            "41:\tlearn: 0.1490329\ttest: 0.1454652\tbest: 0.1454652 (41)\ttotal: 1.09s\tremaining: 2.8s\n",
            "42:\tlearn: 0.1485229\ttest: 0.1452767\tbest: 0.1452767 (42)\ttotal: 1.11s\tremaining: 2.77s\n",
            "43:\tlearn: 0.1481448\ttest: 0.1451573\tbest: 0.1451573 (43)\ttotal: 1.14s\tremaining: 2.74s\n",
            "44:\tlearn: 0.1473924\ttest: 0.1447492\tbest: 0.1447492 (44)\ttotal: 1.16s\tremaining: 2.71s\n",
            "45:\tlearn: 0.1471060\ttest: 0.1448069\tbest: 0.1447492 (44)\ttotal: 1.18s\tremaining: 2.68s\n",
            "46:\tlearn: 0.1467906\ttest: 0.1447211\tbest: 0.1447211 (46)\ttotal: 1.21s\tremaining: 2.65s\n",
            "47:\tlearn: 0.1464645\ttest: 0.1449148\tbest: 0.1447211 (46)\ttotal: 1.23s\tremaining: 2.62s\n",
            "48:\tlearn: 0.1463103\ttest: 0.1449100\tbest: 0.1447211 (46)\ttotal: 1.26s\tremaining: 2.59s\n",
            "49:\tlearn: 0.1462035\ttest: 0.1449851\tbest: 0.1447211 (46)\ttotal: 1.28s\tremaining: 2.57s\n",
            "50:\tlearn: 0.1459090\ttest: 0.1451034\tbest: 0.1447211 (46)\ttotal: 1.3s\tremaining: 2.54s\n",
            "51:\tlearn: 0.1456641\ttest: 0.1451225\tbest: 0.1447211 (46)\ttotal: 1.33s\tremaining: 2.51s\n",
            "52:\tlearn: 0.1452685\ttest: 0.1451720\tbest: 0.1447211 (46)\ttotal: 1.35s\tremaining: 2.48s\n",
            "53:\tlearn: 0.1450606\ttest: 0.1453852\tbest: 0.1447211 (46)\ttotal: 1.38s\tremaining: 2.45s\n",
            "54:\tlearn: 0.1449830\ttest: 0.1454281\tbest: 0.1447211 (46)\ttotal: 1.4s\tremaining: 2.41s\n",
            "55:\tlearn: 0.1447488\ttest: 0.1454016\tbest: 0.1447211 (46)\ttotal: 1.42s\tremaining: 2.38s\n",
            "56:\tlearn: 0.1443982\ttest: 0.1454762\tbest: 0.1447211 (46)\ttotal: 1.44s\tremaining: 2.35s\n",
            "57:\tlearn: 0.1441389\ttest: 0.1454082\tbest: 0.1447211 (46)\ttotal: 1.46s\tremaining: 2.32s\n",
            "58:\tlearn: 0.1438582\ttest: 0.1454294\tbest: 0.1447211 (46)\ttotal: 1.49s\tremaining: 2.3s\n",
            "59:\tlearn: 0.1436906\ttest: 0.1453547\tbest: 0.1447211 (46)\ttotal: 1.51s\tremaining: 2.27s\n",
            "60:\tlearn: 0.1434595\ttest: 0.1452688\tbest: 0.1447211 (46)\ttotal: 1.54s\tremaining: 2.24s\n",
            "61:\tlearn: 0.1430301\ttest: 0.1449589\tbest: 0.1447211 (46)\ttotal: 1.56s\tremaining: 2.21s\n",
            "62:\tlearn: 0.1428731\ttest: 0.1450376\tbest: 0.1447211 (46)\ttotal: 1.58s\tremaining: 2.19s\n",
            "63:\tlearn: 0.1426112\ttest: 0.1451551\tbest: 0.1447211 (46)\ttotal: 1.61s\tremaining: 2.16s\n",
            "64:\tlearn: 0.1423420\ttest: 0.1452957\tbest: 0.1447211 (46)\ttotal: 1.63s\tremaining: 2.13s\n",
            "65:\tlearn: 0.1420212\ttest: 0.1450172\tbest: 0.1447211 (46)\ttotal: 1.65s\tremaining: 2.1s\n",
            "66:\tlearn: 0.1416837\ttest: 0.1452676\tbest: 0.1447211 (46)\ttotal: 1.68s\tremaining: 2.09s\n",
            "67:\tlearn: 0.1415285\ttest: 0.1453496\tbest: 0.1447211 (46)\ttotal: 1.71s\tremaining: 2.06s\n",
            "68:\tlearn: 0.1413633\ttest: 0.1452712\tbest: 0.1447211 (46)\ttotal: 1.73s\tremaining: 2.03s\n",
            "69:\tlearn: 0.1412649\ttest: 0.1453539\tbest: 0.1447211 (46)\ttotal: 1.76s\tremaining: 2.01s\n",
            "70:\tlearn: 0.1409318\ttest: 0.1452526\tbest: 0.1447211 (46)\ttotal: 1.79s\tremaining: 1.99s\n",
            "71:\tlearn: 0.1408093\ttest: 0.1451540\tbest: 0.1447211 (46)\ttotal: 1.81s\tremaining: 1.96s\n",
            "72:\tlearn: 0.1406172\ttest: 0.1450736\tbest: 0.1447211 (46)\ttotal: 1.83s\tremaining: 1.93s\n",
            "73:\tlearn: 0.1403952\ttest: 0.1449752\tbest: 0.1447211 (46)\ttotal: 1.85s\tremaining: 1.9s\n",
            "74:\tlearn: 0.1402359\ttest: 0.1449215\tbest: 0.1447211 (46)\ttotal: 1.88s\tremaining: 1.88s\n",
            "75:\tlearn: 0.1400191\ttest: 0.1447926\tbest: 0.1447211 (46)\ttotal: 1.9s\tremaining: 1.85s\n",
            "76:\tlearn: 0.1399726\ttest: 0.1447674\tbest: 0.1447211 (46)\ttotal: 1.92s\tremaining: 1.82s\n",
            "77:\tlearn: 0.1396867\ttest: 0.1447378\tbest: 0.1447211 (46)\ttotal: 1.95s\tremaining: 1.79s\n",
            "78:\tlearn: 0.1394414\ttest: 0.1446312\tbest: 0.1446312 (78)\ttotal: 1.97s\tremaining: 1.77s\n",
            "79:\tlearn: 0.1392994\ttest: 0.1447568\tbest: 0.1446312 (78)\ttotal: 1.99s\tremaining: 1.74s\n",
            "80:\tlearn: 0.1391164\ttest: 0.1448213\tbest: 0.1446312 (78)\ttotal: 2.01s\tremaining: 1.72s\n",
            "81:\tlearn: 0.1389078\ttest: 0.1449236\tbest: 0.1446312 (78)\ttotal: 2.04s\tremaining: 1.69s\n",
            "82:\tlearn: 0.1387830\ttest: 0.1449414\tbest: 0.1446312 (78)\ttotal: 2.06s\tremaining: 1.66s\n",
            "83:\tlearn: 0.1384105\ttest: 0.1452206\tbest: 0.1446312 (78)\ttotal: 2.08s\tremaining: 1.64s\n",
            "84:\tlearn: 0.1383640\ttest: 0.1451843\tbest: 0.1446312 (78)\ttotal: 2.11s\tremaining: 1.61s\n",
            "85:\tlearn: 0.1382184\ttest: 0.1451436\tbest: 0.1446312 (78)\ttotal: 2.14s\tremaining: 1.59s\n",
            "86:\tlearn: 0.1379441\ttest: 0.1452725\tbest: 0.1446312 (78)\ttotal: 2.16s\tremaining: 1.56s\n",
            "87:\tlearn: 0.1377428\ttest: 0.1451975\tbest: 0.1446312 (78)\ttotal: 2.18s\tremaining: 1.54s\n",
            "88:\tlearn: 0.1375549\ttest: 0.1452278\tbest: 0.1446312 (78)\ttotal: 2.2s\tremaining: 1.51s\n",
            "89:\tlearn: 0.1374040\ttest: 0.1452631\tbest: 0.1446312 (78)\ttotal: 2.23s\tremaining: 1.48s\n",
            "90:\tlearn: 0.1373034\ttest: 0.1453829\tbest: 0.1446312 (78)\ttotal: 2.25s\tremaining: 1.46s\n",
            "91:\tlearn: 0.1370957\ttest: 0.1453071\tbest: 0.1446312 (78)\ttotal: 2.27s\tremaining: 1.43s\n",
            "92:\tlearn: 0.1367782\ttest: 0.1453629\tbest: 0.1446312 (78)\ttotal: 2.29s\tremaining: 1.41s\n",
            "93:\tlearn: 0.1367100\ttest: 0.1454306\tbest: 0.1446312 (78)\ttotal: 2.32s\tremaining: 1.38s\n",
            "94:\tlearn: 0.1363161\ttest: 0.1452663\tbest: 0.1446312 (78)\ttotal: 2.34s\tremaining: 1.36s\n",
            "95:\tlearn: 0.1362899\ttest: 0.1452790\tbest: 0.1446312 (78)\ttotal: 2.37s\tremaining: 1.33s\n",
            "96:\tlearn: 0.1361327\ttest: 0.1452840\tbest: 0.1446312 (78)\ttotal: 2.39s\tremaining: 1.31s\n",
            "97:\tlearn: 0.1358900\ttest: 0.1450687\tbest: 0.1446312 (78)\ttotal: 2.41s\tremaining: 1.28s\n",
            "98:\tlearn: 0.1356426\ttest: 0.1451503\tbest: 0.1446312 (78)\ttotal: 2.44s\tremaining: 1.25s\n",
            "99:\tlearn: 0.1355515\ttest: 0.1450919\tbest: 0.1446312 (78)\ttotal: 2.46s\tremaining: 1.23s\n",
            "100:\tlearn: 0.1353772\ttest: 0.1449986\tbest: 0.1446312 (78)\ttotal: 2.49s\tremaining: 1.21s\n",
            "101:\tlearn: 0.1350595\ttest: 0.1448488\tbest: 0.1446312 (78)\ttotal: 2.51s\tremaining: 1.18s\n",
            "102:\tlearn: 0.1348370\ttest: 0.1448639\tbest: 0.1446312 (78)\ttotal: 2.53s\tremaining: 1.16s\n",
            "103:\tlearn: 0.1346272\ttest: 0.1449250\tbest: 0.1446312 (78)\ttotal: 2.56s\tremaining: 1.13s\n",
            "104:\tlearn: 0.1343294\ttest: 0.1448904\tbest: 0.1446312 (78)\ttotal: 2.58s\tremaining: 1.11s\n",
            "105:\tlearn: 0.1341697\ttest: 0.1449545\tbest: 0.1446312 (78)\ttotal: 2.61s\tremaining: 1.08s\n",
            "106:\tlearn: 0.1339471\ttest: 0.1449526\tbest: 0.1446312 (78)\ttotal: 2.63s\tremaining: 1.06s\n",
            "107:\tlearn: 0.1337678\ttest: 0.1449298\tbest: 0.1446312 (78)\ttotal: 2.65s\tremaining: 1.03s\n",
            "108:\tlearn: 0.1333597\ttest: 0.1447100\tbest: 0.1446312 (78)\ttotal: 2.69s\tremaining: 1.01s\n",
            "109:\tlearn: 0.1332336\ttest: 0.1447701\tbest: 0.1446312 (78)\ttotal: 2.71s\tremaining: 986ms\n",
            "110:\tlearn: 0.1331177\ttest: 0.1447788\tbest: 0.1446312 (78)\ttotal: 2.73s\tremaining: 960ms\n",
            "111:\tlearn: 0.1328533\ttest: 0.1448200\tbest: 0.1446312 (78)\ttotal: 2.76s\tremaining: 936ms\n",
            "112:\tlearn: 0.1327944\ttest: 0.1448852\tbest: 0.1446312 (78)\ttotal: 2.79s\tremaining: 913ms\n",
            "113:\tlearn: 0.1325947\ttest: 0.1448489\tbest: 0.1446312 (78)\ttotal: 2.81s\tremaining: 888ms\n",
            "114:\tlearn: 0.1323399\ttest: 0.1450200\tbest: 0.1446312 (78)\ttotal: 2.83s\tremaining: 863ms\n",
            "115:\tlearn: 0.1322783\ttest: 0.1449486\tbest: 0.1446312 (78)\ttotal: 2.86s\tremaining: 838ms\n",
            "116:\tlearn: 0.1320659\ttest: 0.1447889\tbest: 0.1446312 (78)\ttotal: 2.88s\tremaining: 813ms\n",
            "117:\tlearn: 0.1318464\ttest: 0.1448204\tbest: 0.1446312 (78)\ttotal: 2.9s\tremaining: 788ms\n",
            "118:\tlearn: 0.1317291\ttest: 0.1448317\tbest: 0.1446312 (78)\ttotal: 2.93s\tremaining: 764ms\n",
            "119:\tlearn: 0.1314454\ttest: 0.1449152\tbest: 0.1446312 (78)\ttotal: 2.96s\tremaining: 741ms\n",
            "120:\tlearn: 0.1313410\ttest: 0.1451425\tbest: 0.1446312 (78)\ttotal: 2.99s\tremaining: 717ms\n",
            "121:\tlearn: 0.1312037\ttest: 0.1452386\tbest: 0.1446312 (78)\ttotal: 3.02s\tremaining: 693ms\n",
            "122:\tlearn: 0.1310183\ttest: 0.1450626\tbest: 0.1446312 (78)\ttotal: 3.05s\tremaining: 669ms\n",
            "123:\tlearn: 0.1308930\ttest: 0.1451042\tbest: 0.1446312 (78)\ttotal: 3.08s\tremaining: 645ms\n",
            "124:\tlearn: 0.1306602\ttest: 0.1451233\tbest: 0.1446312 (78)\ttotal: 3.11s\tremaining: 621ms\n",
            "125:\tlearn: 0.1304122\ttest: 0.1453202\tbest: 0.1446312 (78)\ttotal: 3.14s\tremaining: 598ms\n",
            "126:\tlearn: 0.1302594\ttest: 0.1453856\tbest: 0.1446312 (78)\ttotal: 3.17s\tremaining: 573ms\n",
            "127:\tlearn: 0.1300370\ttest: 0.1454055\tbest: 0.1446312 (78)\ttotal: 3.2s\tremaining: 550ms\n",
            "128:\tlearn: 0.1299035\ttest: 0.1453467\tbest: 0.1446312 (78)\ttotal: 3.23s\tremaining: 526ms\n",
            "129:\tlearn: 0.1298480\ttest: 0.1453458\tbest: 0.1446312 (78)\ttotal: 3.26s\tremaining: 501ms\n",
            "130:\tlearn: 0.1296759\ttest: 0.1453472\tbest: 0.1446312 (78)\ttotal: 3.29s\tremaining: 476ms\n",
            "131:\tlearn: 0.1295693\ttest: 0.1454926\tbest: 0.1446312 (78)\ttotal: 3.31s\tremaining: 452ms\n",
            "132:\tlearn: 0.1294842\ttest: 0.1455454\tbest: 0.1446312 (78)\ttotal: 3.34s\tremaining: 427ms\n",
            "133:\tlearn: 0.1293696\ttest: 0.1456403\tbest: 0.1446312 (78)\ttotal: 3.36s\tremaining: 401ms\n",
            "134:\tlearn: 0.1292715\ttest: 0.1456008\tbest: 0.1446312 (78)\ttotal: 3.38s\tremaining: 376ms\n",
            "135:\tlearn: 0.1290599\ttest: 0.1456462\tbest: 0.1446312 (78)\ttotal: 3.41s\tremaining: 351ms\n",
            "136:\tlearn: 0.1289243\ttest: 0.1457059\tbest: 0.1446312 (78)\ttotal: 3.43s\tremaining: 326ms\n",
            "137:\tlearn: 0.1287427\ttest: 0.1458229\tbest: 0.1446312 (78)\ttotal: 3.45s\tremaining: 300ms\n",
            "138:\tlearn: 0.1285826\ttest: 0.1458155\tbest: 0.1446312 (78)\ttotal: 3.48s\tremaining: 275ms\n",
            "139:\tlearn: 0.1284470\ttest: 0.1457863\tbest: 0.1446312 (78)\ttotal: 3.5s\tremaining: 250ms\n",
            "140:\tlearn: 0.1284002\ttest: 0.1458157\tbest: 0.1446312 (78)\ttotal: 3.52s\tremaining: 225ms\n",
            "141:\tlearn: 0.1281880\ttest: 0.1459291\tbest: 0.1446312 (78)\ttotal: 3.54s\tremaining: 200ms\n",
            "142:\tlearn: 0.1280651\ttest: 0.1459949\tbest: 0.1446312 (78)\ttotal: 3.57s\tremaining: 175ms\n",
            "143:\tlearn: 0.1277895\ttest: 0.1459658\tbest: 0.1446312 (78)\ttotal: 3.59s\tremaining: 150ms\n",
            "144:\tlearn: 0.1276321\ttest: 0.1463287\tbest: 0.1446312 (78)\ttotal: 3.62s\tremaining: 125ms\n",
            "145:\tlearn: 0.1274883\ttest: 0.1463947\tbest: 0.1446312 (78)\ttotal: 3.64s\tremaining: 99.7ms\n",
            "146:\tlearn: 0.1270726\ttest: 0.1461810\tbest: 0.1446312 (78)\ttotal: 3.66s\tremaining: 74.8ms\n",
            "147:\tlearn: 0.1269484\ttest: 0.1461323\tbest: 0.1446312 (78)\ttotal: 3.69s\tremaining: 49.9ms\n",
            "148:\tlearn: 0.1265886\ttest: 0.1462272\tbest: 0.1446312 (78)\ttotal: 3.72s\tremaining: 25ms\n",
            "149:\tlearn: 0.1265500\ttest: 0.1461696\tbest: 0.1446312 (78)\ttotal: 3.74s\tremaining: 0us\n",
            "\n",
            "bestTest = 0.1446311616\n",
            "bestIteration = 78\n",
            "\n",
            "Shrink model to first 79 iterations.\n"
          ],
          "name": "stdout"
        },
        {
          "output_type": "execute_result",
          "data": {
            "text/plain": [
              "<catboost.core.CatBoostClassifier at 0x7f1992216160>"
            ]
          },
          "metadata": {
            "tags": []
          },
          "execution_count": 189
        }
      ]
    },
    {
      "cell_type": "code",
      "metadata": {
        "trusted": true,
        "id": "9_EZZTGUakEd"
      },
      "source": [
        "#output 2 is the predicted breed_category of model 2 for test data\n",
        "output2=model2.predict(test)\n",
        "#vld2 is validation 2 i.e we'll check score with the predicted result of validation data of model 2\n",
        "vld2=model2.predict(x2_test)"
      ],
      "execution_count": 191,
      "outputs": []
    },
    {
      "cell_type": "code",
      "metadata": {
        "id": "sPd8I4K66Tx6",
        "outputId": "959ee969-e97a-4c18-9f61-100ebcd873a3",
        "colab": {
          "base_uri": "https://localhost:8080/",
          "height": 34
        }
      },
      "source": [
        "y2_pred = model2.predict(x2_test)\n",
        "score = f1_score(y2_test, y2_pred, average='weighted') * 100\n",
        "score"
      ],
      "execution_count": 190,
      "outputs": [
        {
          "output_type": "execute_result",
          "data": {
            "text/plain": [
              "91.12028270883363"
            ]
          },
          "metadata": {
            "tags": []
          },
          "execution_count": 190
        }
      ]
    },
    {
      "cell_type": "code",
      "metadata": {
        "id": "5QryXkxR6Z_0",
        "outputId": "59ac84e8-68c6-4fb2-d829-b58a9ebd9866",
        "colab": {
          "base_uri": "https://localhost:8080/",
          "height": 68
        }
      },
      "source": [
        "y2_pred = np.array(y2_pred)\n",
        "y2_test = np.array(y2_test)\n",
        "cm = confusion_matrix(y2_test,y2_pred)\n",
        "cm"
      ],
      "execution_count": 192,
      "outputs": [
        {
          "output_type": "execute_result",
          "data": {
            "text/plain": [
              "array([[1656,  121,    0],\n",
              "       [ 213, 1463,    0],\n",
              "       [   0,    0,  314]])"
            ]
          },
          "metadata": {
            "tags": []
          },
          "execution_count": 192
        }
      ]
    },
    {
      "cell_type": "code",
      "metadata": {
        "id": "bANuhe78G6k7"
      },
      "source": [
        "set(y2_test)"
      ],
      "execution_count": null,
      "outputs": []
    },
    {
      "cell_type": "markdown",
      "metadata": {
        "id": "J-kfzVWGakEk"
      },
      "source": [
        "# Check Accuracy"
      ]
    },
    {
      "cell_type": "code",
      "metadata": {
        "trusted": true,
        "id": "jyRAXcgnakEl"
      },
      "source": [
        ""
      ],
      "execution_count": null,
      "outputs": []
    },
    {
      "cell_type": "code",
      "metadata": {
        "trusted": true,
        "id": "ya93HkO-akEo",
        "outputId": "c6e80867-1e3e-48b1-943a-dba556f852a3",
        "colab": {
          "base_uri": "https://localhost:8080/",
          "height": 34
        }
      },
      "source": [
        "s1=f1_score(y1_test,vld1,average='weighted')\n",
        "s2=f1_score(y2_test,vld2,average='weighted')\n",
        "accuracy=100*((s1+s2)/2)\n",
        "accuracy"
      ],
      "execution_count": 193,
      "outputs": [
        {
          "output_type": "execute_result",
          "data": {
            "text/plain": [
              "90.97992316803172"
            ]
          },
          "metadata": {
            "tags": []
          },
          "execution_count": 193
        }
      ]
    },
    {
      "cell_type": "code",
      "metadata": {
        "id": "0UfPb8u9CjV0"
      },
      "source": [
        "vld1 = np.array(vld1)\n",
        "y1_test = np.array(y1_test)\n",
        "cm = confusion_matrix(y1_test, vld1, labels = [0,1,2,4])\n",
        "cm"
      ],
      "execution_count": null,
      "outputs": []
    },
    {
      "cell_type": "code",
      "metadata": {
        "id": "4yz8tW8iCKgY"
      },
      "source": [
        ""
      ],
      "execution_count": null,
      "outputs": []
    },
    {
      "cell_type": "markdown",
      "metadata": {
        "id": "o3yDPx_XakEt"
      },
      "source": [
        "# Create Submission file"
      ]
    },
    {
      "cell_type": "code",
      "metadata": {
        "id": "vJp1UBp38Ts6"
      },
      "source": [
        "d = {'pet_id':test_id, 'breed_category':output2, 'pet_category':output1}"
      ],
      "execution_count": 203,
      "outputs": []
    },
    {
      "cell_type": "code",
      "metadata": {
        "id": "wW0eNKZt9o3_"
      },
      "source": [
        "output1 = output1.reshape(-1)\n",
        "output2 = output2.reshape(-1)"
      ],
      "execution_count": 200,
      "outputs": []
    },
    {
      "cell_type": "code",
      "metadata": {
        "id": "_7jT0H01-FqO",
        "outputId": "c52a5a34-5145-463a-de54-ff9aac0f0ce9",
        "colab": {
          "base_uri": "https://localhost:8080/",
          "height": 34
        }
      },
      "source": [
        "print(output2.shape,output1.shape)"
      ],
      "execution_count": 201,
      "outputs": [
        {
          "output_type": "stream",
          "text": [
            "(8072,) (8072,)\n"
          ],
          "name": "stdout"
        }
      ]
    },
    {
      "cell_type": "code",
      "metadata": {
        "trusted": true,
        "id": "A0rmo0YmakEt"
      },
      "source": [
        "datafra = pd.DataFrame(d)"
      ],
      "execution_count": 204,
      "outputs": []
    },
    {
      "cell_type": "code",
      "metadata": {
        "id": "xrGUCk0wATom"
      },
      "source": [
        "datafra.to_csv('Submission5.csv',index=False) "
      ],
      "execution_count": 205,
      "outputs": []
    },
    {
      "cell_type": "code",
      "metadata": {
        "trusted": true,
        "id": "k4AOb4bpakE0"
      },
      "source": [
        "y1.value_counts()"
      ],
      "execution_count": null,
      "outputs": []
    },
    {
      "cell_type": "code",
      "metadata": {
        "trusted": true,
        "id": "_ik3oPyqakE5"
      },
      "source": [
        "y2.value_counts()"
      ],
      "execution_count": null,
      "outputs": []
    },
    {
      "cell_type": "code",
      "metadata": {
        "trusted": true,
        "id": "f22XE8dMakFR"
      },
      "source": [
        "# pet_category == 0 is rare"
      ],
      "execution_count": null,
      "outputs": []
    },
    {
      "cell_type": "code",
      "metadata": {
        "trusted": true,
        "id": "vZpgWJ_bakFT"
      },
      "source": [
        "# submission5.csv got 90.33 marks"
      ],
      "execution_count": null,
      "outputs": []
    }
  ]
}