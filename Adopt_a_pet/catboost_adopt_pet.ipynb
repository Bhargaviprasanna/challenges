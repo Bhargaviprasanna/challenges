{
  "nbformat": 4,
  "nbformat_minor": 0,
  "metadata": {
    "colab": {
      "name": "catboost_adopt_pet.ipynb",
      "provenance": [],
      "collapsed_sections": [],
      "toc_visible": true
    },
    "kernelspec": {
      "display_name": "Python 3",
      "language": "python",
      "name": "python3"
    },
    "language_info": {
      "codemirror_mode": {
        "name": "ipython",
        "version": 3
      },
      "file_extension": ".py",
      "mimetype": "text/x-python",
      "name": "python",
      "nbconvert_exporter": "python",
      "pygments_lexer": "ipython3",
      "version": "3.7.7"
    }
  },
  "cells": [
    {
      "cell_type": "markdown",
      "metadata": {
        "colab_type": "text",
        "id": "8FLud1n-3pVm"
      },
      "source": [
        "# CatBoost"
      ]
    },
    {
      "cell_type": "markdown",
      "metadata": {
        "colab_type": "text",
        "id": "sO8VPU6n3vES"
      },
      "source": [
        "## Importing the libraries"
      ]
    },
    {
      "cell_type": "code",
      "metadata": {
        "id": "CzC0QgfCMaw4",
        "colab_type": "code",
        "colab": {
          "base_uri": "https://localhost:8080/",
          "height": 54
        },
        "outputId": "810556f3-5987-4a3f-e85f-868dfa961652"
      },
      "source": [
        "from google.colab import drive\n",
        "drive.mount('/content/drive')"
      ],
      "execution_count": null,
      "outputs": [
        {
          "output_type": "stream",
          "text": [
            "Drive already mounted at /content/drive; to attempt to forcibly remount, call drive.mount(\"/content/drive\", force_remount=True).\n"
          ],
          "name": "stdout"
        }
      ]
    },
    {
      "cell_type": "code",
      "metadata": {
        "colab_type": "code",
        "id": "K-_d2lI45wQi",
        "colab": {
          "base_uri": "https://localhost:8080/",
          "height": 275
        },
        "outputId": "c4881b57-0b75-4fed-d7a8-54c89ec04e19"
      },
      "source": [
        "!pip install catboost"
      ],
      "execution_count": null,
      "outputs": [
        {
          "output_type": "stream",
          "text": [
            "Requirement already satisfied: catboost in /usr/local/lib/python3.6/dist-packages (0.24)\n",
            "Requirement already satisfied: graphviz in /usr/local/lib/python3.6/dist-packages (from catboost) (0.10.1)\n",
            "Requirement already satisfied: numpy>=1.16.0 in /usr/local/lib/python3.6/dist-packages (from catboost) (1.18.5)\n",
            "Requirement already satisfied: six in /usr/local/lib/python3.6/dist-packages (from catboost) (1.15.0)\n",
            "Requirement already satisfied: plotly in /usr/local/lib/python3.6/dist-packages (from catboost) (4.4.1)\n",
            "Requirement already satisfied: pandas>=0.24.0 in /usr/local/lib/python3.6/dist-packages (from catboost) (1.0.5)\n",
            "Requirement already satisfied: scipy in /usr/local/lib/python3.6/dist-packages (from catboost) (1.4.1)\n",
            "Requirement already satisfied: matplotlib in /usr/local/lib/python3.6/dist-packages (from catboost) (3.2.2)\n",
            "Requirement already satisfied: retrying>=1.3.3 in /usr/local/lib/python3.6/dist-packages (from plotly->catboost) (1.3.3)\n",
            "Requirement already satisfied: pytz>=2017.2 in /usr/local/lib/python3.6/dist-packages (from pandas>=0.24.0->catboost) (2018.9)\n",
            "Requirement already satisfied: python-dateutil>=2.6.1 in /usr/local/lib/python3.6/dist-packages (from pandas>=0.24.0->catboost) (2.8.1)\n",
            "Requirement already satisfied: cycler>=0.10 in /usr/local/lib/python3.6/dist-packages (from matplotlib->catboost) (0.10.0)\n",
            "Requirement already satisfied: kiwisolver>=1.0.1 in /usr/local/lib/python3.6/dist-packages (from matplotlib->catboost) (1.2.0)\n",
            "Requirement already satisfied: pyparsing!=2.0.4,!=2.1.2,!=2.1.6,>=2.0.1 in /usr/local/lib/python3.6/dist-packages (from matplotlib->catboost) (2.4.7)\n"
          ],
          "name": "stdout"
        }
      ]
    },
    {
      "cell_type": "code",
      "metadata": {
        "id": "WsWM_Lj7Mn5O",
        "colab_type": "code",
        "colab": {}
      },
      "source": [
        "test_path = '/content/drive/My Drive/Datasets/Hacker_Earth_Challenges/Adopt_a_pet/Dataset/test.csv'\n",
        "train_path = '/content/drive/My Drive/Datasets/Hacker_Earth_Challenges/Adopt_a_pet/Dataset/train.csv'"
      ],
      "execution_count": null,
      "outputs": []
    },
    {
      "cell_type": "code",
      "metadata": {
        "colab_type": "code",
        "id": "clDSsF7P33NU",
        "colab": {}
      },
      "source": [
        "import numpy as np\n",
        "import matplotlib.pyplot as plt\n",
        "import pandas as pd"
      ],
      "execution_count": null,
      "outputs": []
    },
    {
      "cell_type": "markdown",
      "metadata": {
        "colab_type": "text",
        "id": "zGpwK5XD386E"
      },
      "source": [
        "## Importing the dataset"
      ]
    },
    {
      "cell_type": "code",
      "metadata": {
        "colab_type": "code",
        "id": "Zcksk88u4Ae8",
        "colab": {}
      },
      "source": [
        "df = pd.read_csv(train_path)\n",
        "from sklearn.impute import SimpleImputer\n",
        "imp=SimpleImputer(missing_values=np.nan, strategy=\"mean\" )\n",
        "df[\"condition\"]=imp.fit_transform(df[[\"condition\"]]).ravel()\n",
        "X = df.iloc[:, 3:9].values\n",
        "y = df.iloc[:, 9:11].values"
      ],
      "execution_count": null,
      "outputs": []
    },
    {
      "cell_type": "markdown",
      "metadata": {
        "colab_type": "text",
        "id": "XNn2RnST6_Q-"
      },
      "source": [
        "## Splitting the dataset into the Training set and Test set"
      ]
    },
    {
      "cell_type": "code",
      "metadata": {
        "colab_type": "code",
        "id": "ajhBL-er7Gry",
        "colab": {}
      },
      "source": [
        "from sklearn.model_selection import train_test_split\n",
        "X_train, X_test, y_train, y_test = train_test_split(X, y, test_size = 0.2, random_state = 0)\n",
        "y_train1 = y_train[:,0]\n",
        "y_train2 = y_train[:,1]\n",
        "y_test1 = y_test[:,0]\n",
        "y_test2 = y_test[:, 1]\n"
      ],
      "execution_count": null,
      "outputs": []
    },
    {
      "cell_type": "code",
      "metadata": {
        "id": "bPiCEU0cko4V",
        "colab_type": "code",
        "colab": {
          "base_uri": "https://localhost:8080/",
          "height": 34
        },
        "outputId": "a2e0bba1-f5c6-43c0-d0a6-97376b231d25"
      },
      "source": [
        "\n",
        "# X_train[0]\n",
        "print(X_train.shape,\n",
        "y_train.shape)"
      ],
      "execution_count": null,
      "outputs": [
        {
          "output_type": "stream",
          "text": [
            "(15067, 6) (15067, 2)\n"
          ],
          "name": "stdout"
        }
      ]
    },
    {
      "cell_type": "markdown",
      "metadata": {
        "colab_type": "text",
        "id": "1Y89ctGZ7Mcx"
      },
      "source": [
        "## Training CatBoost on the Training set"
      ]
    },
    {
      "cell_type": "markdown",
      "metadata": {
        "id": "7iePawSqVPzp",
        "colab_type": "text"
      },
      "source": [
        "# for 1st classifier"
      ]
    },
    {
      "cell_type": "markdown",
      "metadata": {
        "id": "6To1VqAr8Lrn",
        "colab_type": "text"
      },
      "source": [
        "best_params = {\n",
        "  learning_rate =[0.357999,0.148553,0.130635],\n",
        "  iterations = [51, 78, 90],\n",
        "  acc = [90.92, 90.84, 90.73]\n",
        "}"
      ]
    },
    {
      "cell_type": "code",
      "metadata": {
        "id": "0UBw8VIwNSvB",
        "colab_type": "code",
        "colab": {}
      },
      "source": [
        "from catboost import CatBoostClassifier #learning_rate = 0.148553,\n",
        "classifier1 = CatBoostClassifier(iterations = 55,learning_rate =0.357999,cat_features =[1],loss_function='MultiClass') #learning_rate=0.05,\n",
        "classifier1.fit(X_train, y_train1, eval_set=(X_test,y_test1))"
      ],
      "execution_count": null,
      "outputs": []
    },
    {
      "cell_type": "code",
      "metadata": {
        "id": "Yr_kVHfrWmIj",
        "colab_type": "code",
        "colab": {
          "base_uri": "https://localhost:8080/",
          "height": 85
        },
        "outputId": "4b16d60a-187f-4f59-ce62-a275d4d051a4"
      },
      "source": [
        "# for 1st target value\n",
        "from sklearn.metrics import confusion_matrix, accuracy_score\n",
        "y_pred = classifier1.predict(X_test)\n",
        "cm = confusion_matrix(y_test1, y_pred)\n",
        "print(cm)\n",
        "score = accuracy_score(y_test1, y_pred)*100\n",
        "print(score)"
      ],
      "execution_count": null,
      "outputs": [
        {
          "output_type": "stream",
          "text": [
            "[[1653  124    0]\n",
            " [ 218 1458    0]\n",
            " [   0    0  314]]\n",
            "90.92115741969738\n"
          ],
          "name": "stdout"
        }
      ]
    },
    {
      "cell_type": "markdown",
      "metadata": {
        "id": "uVUMqD1wVGN7",
        "colab_type": "text"
      },
      "source": [
        "# for 2nd classifier"
      ]
    },
    {
      "cell_type": "markdown",
      "metadata": {
        "id": "mW_Pmlzs-y67",
        "colab_type": "text"
      },
      "source": [
        "best_params = {\n",
        "  learning_rate =[0.240278, 0.113996, 0.435139],\n",
        "  iterations = [58, 137, 28],\n",
        "  acc = [88.00, 87.64, 87.60]\n",
        "}"
      ]
    },
    {
      "cell_type": "code",
      "metadata": {
        "colab_type": "code",
        "id": "ude1J0E47SKN",
        "colab": {}
      },
      "source": [
        "# learning_rate = 0.106326,iterations = 176\n",
        "classifier2 = CatBoostClassifier(iterations =176,learning_rate = 0.106326,cat_features =[1],loss_function='MultiClass', use_best_model=True) #learning_rate=0.05,\n",
        "# --per-float-feature-quantization 0:border_count=1024;1:border_count=1024\n",
        "classifier2.fit(X_train, y_train2, eval_set=(X_test,y_test2), plot=True)"
      ],
      "execution_count": null,
      "outputs": []
    },
    {
      "cell_type": "code",
      "metadata": {
        "id": "UXjM4lwrWhoJ",
        "colab_type": "code",
        "colab": {
          "base_uri": "https://localhost:8080/",
          "height": 102
        },
        "outputId": "ca56e73f-e649-40db-d7c1-9d1303a39894"
      },
      "source": [
        "y_pred2 = classifier2.predict(X_test)\n",
        "#for 2nd target value\n",
        "cm2 = confusion_matrix(y_test2, y_pred2)\n",
        "print(cm2)\n",
        "score2 = accuracy_score(y_test2, y_pred2)*100\n",
        "print(score2)"
      ],
      "execution_count": null,
      "outputs": [
        {
          "output_type": "stream",
          "text": [
            "[[   2    3    4    4]\n",
            " [   0 1148  304    7]\n",
            " [   0  107 2003    4]\n",
            " [   0   14   18  149]]\n",
            "87.65595964958854\n"
          ],
          "name": "stdout"
        }
      ]
    },
    {
      "cell_type": "markdown",
      "metadata": {
        "id": "annStnPUYCRt",
        "colab_type": "text"
      },
      "source": [
        "iterations = 142 , acc = 87.7621449429254\n"
      ]
    },
    {
      "cell_type": "markdown",
      "metadata": {
        "id": "pE4wA04FIwAS",
        "colab_type": "text"
      },
      "source": [
        ""
      ]
    },
    {
      "cell_type": "markdown",
      "metadata": {
        "id": "lOklFbPGL6Aj",
        "colab_type": "text"
      },
      "source": [
        "bestTest = 0.1444441723\n",
        "bestIteration = 494\n",
        "\n",
        "for iterations = 85 , acc = 91.\n",
        "\n",
        "bestTest = 0.1449934695\n",
        "bestIteration = 41 , acc = 90.5"
      ]
    },
    {
      "cell_type": "markdown",
      "metadata": {
        "colab_type": "text",
        "id": "ivqmubzW7dFJ"
      },
      "source": [
        "## f1_score"
      ]
    },
    {
      "cell_type": "code",
      "metadata": {
        "id": "or7Rq1IUc0k2",
        "colab_type": "code",
        "colab": {
          "base_uri": "https://localhost:8080/",
          "height": 34
        },
        "outputId": "2cda393e-84a8-4a8a-8ed1-f0190ad2adb6"
      },
      "source": [
        "from sklearn.metrics import f1_score\n",
        "score = f1_score(y_test1, y_pred, average='weighted') * 100\n",
        "score2 = f1_score(y_test2, y_pred2, average='weighted') * 100\n",
        "print(score, score2)"
      ],
      "execution_count": null,
      "outputs": [
        {
          "output_type": "stream",
          "text": [
            "90.90715551745532 87.71086087590952\n"
          ],
          "name": "stdout"
        }
      ]
    },
    {
      "cell_type": "markdown",
      "metadata": {
        "colab_type": "text",
        "id": "EnbCjHgQ8XPn"
      },
      "source": [
        "## Applying k-Fold Cross Validation"
      ]
    },
    {
      "cell_type": "code",
      "metadata": {
        "colab_type": "code",
        "id": "yYbfiITD8ZAz",
        "colab": {}
      },
      "source": [
        "from sklearn.model_selection import cross_val_score\n",
        "accuracies1 = cross_val_score(estimator = classifier1, X = X_train, y = y_train1, cv = 10)\n",
        "print(\"Accuracy: {:.2f} %\".format(accuracies1.mean()*100))\n",
        "accuracies = cross_val_score(estimator = classifier2, X = X_train, y = y_train2, cv = 10)\n",
        "print(\"Accuracy: {:.2f} %\".format(accuracies.mean()*100))"
      ],
      "execution_count": null,
      "outputs": []
    },
    {
      "cell_type": "markdown",
      "metadata": {
        "id": "2jWr7OkziPUo",
        "colab_type": "text"
      },
      "source": [
        "# Grid Search"
      ]
    },
    {
      "cell_type": "markdown",
      "metadata": {
        "id": "OWK0aMEoz5nj",
        "colab_type": "text"
      },
      "source": [
        "Best Accuracy: 89.87 %\n",
        "Best Parameters: {'learning_rate': 0.03} for 1st target\n",
        "\n",
        "Best Accuracy: 87.77 %\n",
        "Best Parameters: {'learning_rate': 0.03} for 2nd target"
      ]
    },
    {
      "cell_type": "code",
      "metadata": {
        "id": "FVw1y-EWgkQr",
        "colab_type": "code",
        "colab": {}
      },
      "source": [
        "from sklearn.model_selection import GridSearchCV\n",
        "grid = {'learning_rate': [] #0.01, 0.03, 0.1, 0.5, 1  = 0.03 87.62\n",
        "}\n",
        "grid_search = GridSearchCV(estimator = classifier2,\n",
        "                           param_grid = grid,\n",
        "                           scoring = 'accuracy',\n",
        "                           cv = 10,\n",
        "                           n_jobs = -1\n",
        "                          )\n",
        "grid_search = grid_search.fit(X_train, y_train2)\n",
        "best_accuracy = grid_search.best_score_\n",
        "best_parameters = grid_search.best_params_\n",
        "print(\"Best Accuracy: {:.2f} %\".format(best_accuracy*100))\n",
        "print(\"Best Parameters:\", best_parameters)"
      ],
      "execution_count": null,
      "outputs": []
    },
    {
      "cell_type": "markdown",
      "metadata": {
        "id": "_mC10MvT40zK",
        "colab_type": "text"
      },
      "source": [
        "#Preprocess the test set for submission"
      ]
    },
    {
      "cell_type": "code",
      "metadata": {
        "id": "t6ooAW5H4Yn2",
        "colab_type": "code",
        "colab": {}
      },
      "source": [
        "test_Set = pd.read_csv(test_path)\n",
        "print(test_Set.info())\n",
        "from sklearn.impute import SimpleImputer\n",
        "imp=SimpleImputer(missing_values=np.nan, strategy=\"mean\" )\n",
        "test_Set[\"condition\"]=imp.fit_transform(test_Set[[\"condition\"]]).ravel()\n",
        "X_test_final = test_Set.iloc[:, 3:9].values\n",
        "X_test_final[0]"
      ],
      "execution_count": null,
      "outputs": []
    },
    {
      "cell_type": "code",
      "metadata": {
        "id": "MS4RxH4Gr5Rq",
        "colab_type": "code",
        "colab": {}
      },
      "source": [
        "len(set(test_Set['color_type']))"
      ],
      "execution_count": null,
      "outputs": []
    },
    {
      "cell_type": "code",
      "metadata": {
        "id": "jhYtdWnRGB2N",
        "colab_type": "code",
        "colab": {}
      },
      "source": [
        "y_pred_breedcategory = classifier1.predict(X_test_final)\n",
        "predicted_breed_category = [int(i) for i in y_pred_breedcategory]\n",
        "\n",
        "y_pred_petcategory = classifier2.predict(X_test_final)\n",
        "predicted_pet_category = [int(i) for i in y_pred_petcategory]"
      ],
      "execution_count": null,
      "outputs": []
    },
    {
      "cell_type": "code",
      "metadata": {
        "id": "SAyGl2exEnUr",
        "colab_type": "code",
        "colab": {}
      },
      "source": [
        "d = {'pet_id':test_Set['pet_id'], 'breed_category':predicted_breed_category, 'pet_category':predicted_pet_category}"
      ],
      "execution_count": null,
      "outputs": []
    },
    {
      "cell_type": "code",
      "metadata": {
        "id": "EHk6txR5GR2E",
        "colab_type": "code",
        "colab": {
          "base_uri": "https://localhost:8080/",
          "height": 419
        },
        "outputId": "27afef72-de7c-4513-906e-934255eaac8b"
      },
      "source": [
        "datafra = pd.DataFrame(d)\n",
        "# d.to_csv('Submission.csv', index=False)\n",
        "datafra"
      ],
      "execution_count": null,
      "outputs": [
        {
          "output_type": "execute_result",
          "data": {
            "text/html": [
              "<div>\n",
              "<style scoped>\n",
              "    .dataframe tbody tr th:only-of-type {\n",
              "        vertical-align: middle;\n",
              "    }\n",
              "\n",
              "    .dataframe tbody tr th {\n",
              "        vertical-align: top;\n",
              "    }\n",
              "\n",
              "    .dataframe thead th {\n",
              "        text-align: right;\n",
              "    }\n",
              "</style>\n",
              "<table border=\"1\" class=\"dataframe\">\n",
              "  <thead>\n",
              "    <tr style=\"text-align: right;\">\n",
              "      <th></th>\n",
              "      <th>pet_id</th>\n",
              "      <th>breed_category</th>\n",
              "      <th>pet_category</th>\n",
              "    </tr>\n",
              "  </thead>\n",
              "  <tbody>\n",
              "    <tr>\n",
              "      <th>0</th>\n",
              "      <td>ANSL_75005</td>\n",
              "      <td>1</td>\n",
              "      <td>2</td>\n",
              "    </tr>\n",
              "    <tr>\n",
              "      <th>1</th>\n",
              "      <td>ANSL_76663</td>\n",
              "      <td>0</td>\n",
              "      <td>1</td>\n",
              "    </tr>\n",
              "    <tr>\n",
              "      <th>2</th>\n",
              "      <td>ANSL_58259</td>\n",
              "      <td>0</td>\n",
              "      <td>2</td>\n",
              "    </tr>\n",
              "    <tr>\n",
              "      <th>3</th>\n",
              "      <td>ANSL_67171</td>\n",
              "      <td>0</td>\n",
              "      <td>1</td>\n",
              "    </tr>\n",
              "    <tr>\n",
              "      <th>4</th>\n",
              "      <td>ANSL_72871</td>\n",
              "      <td>0</td>\n",
              "      <td>2</td>\n",
              "    </tr>\n",
              "    <tr>\n",
              "      <th>...</th>\n",
              "      <td>...</td>\n",
              "      <td>...</td>\n",
              "      <td>...</td>\n",
              "    </tr>\n",
              "    <tr>\n",
              "      <th>8067</th>\n",
              "      <td>ANSL_66809</td>\n",
              "      <td>0</td>\n",
              "      <td>2</td>\n",
              "    </tr>\n",
              "    <tr>\n",
              "      <th>8068</th>\n",
              "      <td>ANSL_59041</td>\n",
              "      <td>1</td>\n",
              "      <td>2</td>\n",
              "    </tr>\n",
              "    <tr>\n",
              "      <th>8069</th>\n",
              "      <td>ANSL_60034</td>\n",
              "      <td>1</td>\n",
              "      <td>2</td>\n",
              "    </tr>\n",
              "    <tr>\n",
              "      <th>8070</th>\n",
              "      <td>ANSL_58066</td>\n",
              "      <td>2</td>\n",
              "      <td>4</td>\n",
              "    </tr>\n",
              "    <tr>\n",
              "      <th>8071</th>\n",
              "      <td>ANSL_69436</td>\n",
              "      <td>1</td>\n",
              "      <td>2</td>\n",
              "    </tr>\n",
              "  </tbody>\n",
              "</table>\n",
              "<p>8072 rows × 3 columns</p>\n",
              "</div>"
            ],
            "text/plain": [
              "          pet_id  breed_category  pet_category\n",
              "0     ANSL_75005               1             2\n",
              "1     ANSL_76663               0             1\n",
              "2     ANSL_58259               0             2\n",
              "3     ANSL_67171               0             1\n",
              "4     ANSL_72871               0             2\n",
              "...          ...             ...           ...\n",
              "8067  ANSL_66809               0             2\n",
              "8068  ANSL_59041               1             2\n",
              "8069  ANSL_60034               1             2\n",
              "8070  ANSL_58066               2             4\n",
              "8071  ANSL_69436               1             2\n",
              "\n",
              "[8072 rows x 3 columns]"
            ]
          },
          "metadata": {
            "tags": []
          },
          "execution_count": 61
        }
      ]
    },
    {
      "cell_type": "code",
      "metadata": {
        "id": "6aJ_5NOmHo7Y",
        "colab_type": "code",
        "colab": {}
      },
      "source": [
        "datafra.to_csv('Submission5.csv',index=False) \n",
        "# got 80 marks subbimision1.csv  \n",
        "# got 60 for subimision2.csv \n",
        "# got 89.21 for subimission3.csv\n",
        "# got 89.45 for subimission4.csv\n"
      ],
      "execution_count": null,
      "outputs": []
    }
  ]
}