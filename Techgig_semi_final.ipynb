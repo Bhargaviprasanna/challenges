{
  "nbformat": 4,
  "nbformat_minor": 0,
  "metadata": {
    "colab": {
      "name": "Techgig_semi-final.ipynb",
      "provenance": [],
      "collapsed_sections": [],
      "authorship_tag": "ABX9TyNE9vn9nM8STwCsNdUvi5Za",
      "include_colab_link": true
    },
    "kernelspec": {
      "name": "python3",
      "display_name": "Python 3"
    }
  },
  "cells": [
    {
      "cell_type": "markdown",
      "metadata": {
        "id": "view-in-github",
        "colab_type": "text"
      },
      "source": [
        "<a href=\"https://colab.research.google.com/github/Bhargaviprasanna/challenges/blob/master/Techgig_semi_final.ipynb\" target=\"_parent\"><img src=\"https://colab.research.google.com/assets/colab-badge.svg\" alt=\"Open In Colab\"/></a>"
      ]
    },
    {
      "cell_type": "markdown",
      "metadata": {
        "id": "cHyXHjOYqNAn"
      },
      "source": [
        "# Techgig semi-final"
      ]
    },
    {
      "cell_type": "code",
      "metadata": {
        "id": "w54J7J3nrFhe"
      },
      "source": [
        "def minimum(L):\n",
        "  m =10000\n",
        "  indi = 0\n",
        "  for i in range(len(L)):\n",
        "    if m > L[i]:\n",
        "      m = L[i]\n",
        "      indi = i\n",
        "  return [m,indi]"
      ],
      "execution_count": null,
      "outputs": []
    },
    {
      "cell_type": "code",
      "metadata": {
        "id": "acmJXoc6qLFk"
      },
      "source": [
        "# P patients and D doctors find minimum efforts by docotrs\n",
        "# P,D = map(int, input().split())\n",
        "# for i in range(D):\n",
        "#   E = [int(j) for j in input().split()]\n",
        "E = [[2,2,2,2],[3,1,2,3]]\n",
        "j=0\n",
        "mini = 0\n",
        "D = 2\n",
        "P = 4\n",
        "indices = [i for i in range(len(E))]\n",
        "i=0\n",
        "while j < P:\n",
        "  m = minimum([E[i:P][j] for i in indices])\n",
        "  print(m)\n",
        "  if m[1] == D-1:\n",
        "    mini = mini + sum(E[D-1][j:P])\n",
        "  if  j!=0 and m[1] != ind:\n",
        "    indices.remove(ind)\n",
        "  if m[1] in indices:\n",
        "    mini = mini + m[0]\n",
        "    ind = m[1] \n",
        "  j+=1\n",
        "print(mini)\n"
      ],
      "execution_count": null,
      "outputs": []
    },
    {
      "cell_type": "code",
      "metadata": {
        "id": "pOKwUzM72GoU",
        "colab": {
          "base_uri": "https://localhost:8080/",
          "height": 51
        },
        "outputId": "cb8c3f0d-5758-4f28-d3ca-ce58386fef47"
      },
      "source": [
        "print(indices)\n",
        "indices = [i for i in range(len(E))]\n",
        "sum(E[0][0:2])"
      ],
      "execution_count": null,
      "outputs": [
        {
          "output_type": "stream",
          "text": [
            "[0, 1]\n"
          ],
          "name": "stdout"
        },
        {
          "output_type": "execute_result",
          "data": {
            "text/plain": [
              "4"
            ]
          },
          "metadata": {
            "tags": []
          },
          "execution_count": 18
        }
      ]
    },
    {
      "cell_type": "code",
      "metadata": {
        "id": "So9ZOLiaxbMA",
        "colab": {
          "base_uri": "https://localhost:8080/",
          "height": 145
        },
        "outputId": "0b8238cf-6831-4747-eeeb-fef13a37bd7f"
      },
      "source": [
        "N = int(input())\n",
        "RO = int(input())\n",
        "RG = int(input())\n",
        "OR = int(input())\n",
        "OG = int(input())\n",
        "GR = int(input())\n",
        "GO = int(input())\n",
        "arrangements = 3+RO+RG+OR+OG+GR+GO"
      ],
      "execution_count": null,
      "outputs": [
        {
          "output_type": "stream",
          "text": [
            "2\n",
            "1\n",
            "1\n",
            "1\n",
            "1\n",
            "0\n",
            "0\n"
          ],
          "name": "stdout"
        }
      ]
    },
    {
      "cell_type": "code",
      "metadata": {
        "id": "LKj2p9THyF-A",
        "colab": {
          "base_uri": "https://localhost:8080/",
          "height": 35
        },
        "outputId": "40eac5b0-fc3d-450f-a0cf-0eaa65a35af2"
      },
      "source": [
        "print(arrangements)"
      ],
      "execution_count": null,
      "outputs": [
        {
          "output_type": "stream",
          "text": [
            "7\n"
          ],
          "name": "stdout"
        }
      ]
    },
    {
      "cell_type": "code",
      "metadata": {
        "id": "lU6qGn7QGBAF",
        "colab": {
          "base_uri": "https://localhost:8080/",
          "height": 170
        },
        "outputId": "1e5b13b3-4ef5-4523-e082-32bf8e1edc8f"
      },
      "source": [
        "T = int(input())\n",
        "for i in range(T):\n",
        "    N = int(input())\n",
        "    V = [int(i) for i in input().split()]\n",
        "    P = [int(i) for i in input().split()]\n",
        "    V = sorted(V)\n",
        "    P = sorted(P)\n",
        "    i=0\n",
        "    j=0\n",
        "    count=0\n",
        "    while i<N:\n",
        "        if V[i] < P[j]:\n",
        "            j+=1\n",
        "            count +=1\n",
        "        i+=1\n",
        "    if count == N:\n",
        "        print('WIN')\n",
        "    else:\n",
        "        print('LOSE')"
      ],
      "execution_count": null,
      "outputs": [
        {
          "output_type": "stream",
          "text": [
            "2\n",
            "6\n",
            "10 20 50 100 500 400 \n",
            "30 20 60 70 90 490 \n",
            "LOSE\n",
            "5\n",
            "10 20 30 40 50\n",
            "40 50 60 70 80 \n",
            "WIN\n"
          ],
          "name": "stdout"
        }
      ]
    },
    {
      "cell_type": "code",
      "metadata": {
        "id": "uoba22k5T2Qb"
      },
      "source": [
        "import java.io.*;\n",
        "import java.util.*;\n",
        "import java.util.Scanner;\n",
        "import java.util.ArrayList;\n",
        "public class CandidateCode {\n",
        "   public static void main(String args[] ) throws Exception {\n",
        "\n",
        "\t//Write code here\n",
        "   Scanner ob = new Scanner(System.in);\n",
        "   int T = ob.nextInt();\n",
        "   int i =0;\n",
        "   int v,p;\n",
        "   int k,l;\n",
        "   for(;i<T;i++)\n",
        "   {\n",
        "      int N = ob.nextInt();\n",
        "      List<Integer> V = new ArrayList<Integer>(N);\n",
        "   \n",
        "      for(v=0;v<N;v++)\n",
        "      {\n",
        "         V.add(ob.nextInt());\n",
        "      }\n",
        "      List<Integer> P = new ArrayList<Integer>(N);\n",
        "      for(p=0;p<N;p++)\n",
        "      {\n",
        "         P.add(ob.nextInt());\n",
        "      }\n",
        "      // System.out.println(V);\n",
        "      // System.out.println(P);\n",
        "      Collections.sort(V);\n",
        "      Collections.sort(P);\n",
        "      // System.out.println(V);\n",
        "      // System.out.println(P);\n",
        "      k=0;\n",
        "      l=0;\n",
        "      int count = 0;\n",
        "      while(k < N)\n",
        "      {\n",
        "         if (V.get(k) < P.get(l))\n",
        "         {\n",
        "            l = l+1;\n",
        "            count = count + 1;\n",
        "         }\n",
        "         k = k + 1;\n",
        "      }\n",
        "      if (count == N)\n",
        "         System.out.println(\"WIN\");\n",
        "      else\n",
        "         System.out.println(\"LOSE\");\n",
        "\n",
        "   }\n",
        "\n",
        "   }\n",
        "}"
      ],
      "execution_count": null,
      "outputs": []
    },
    {
      "cell_type": "code",
      "metadata": {
        "id": "qKlW7UDaGBCO"
      },
      "source": [
        ""
      ],
      "execution_count": null,
      "outputs": []
    }
  ]
}